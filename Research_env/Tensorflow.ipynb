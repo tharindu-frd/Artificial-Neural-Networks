{
 "cells": [
  {
   "cell_type": "markdown",
   "id": "1e026ec2",
   "metadata": {},
   "source": [
    "# Tensorflow"
   ]
  },
  {
   "cell_type": "code",
   "execution_count": 1,
   "id": "8988fc27",
   "metadata": {},
   "outputs": [
    {
     "name": "stdout",
     "output_type": "stream",
     "text": [
      "WARNING:tensorflow:From C:\\Users\\Tharindu\\anaconda3\\Lib\\site-packages\\keras\\src\\losses.py:2976: The name tf.losses.sparse_softmax_cross_entropy is deprecated. Please use tf.compat.v1.losses.sparse_softmax_cross_entropy instead.\n",
      "\n"
     ]
    }
   ],
   "source": [
    "import tensorflow as tf"
   ]
  },
  {
   "cell_type": "code",
   "execution_count": 2,
   "id": "2d60f5bf",
   "metadata": {},
   "outputs": [],
   "source": [
    "# tensor : multi dimensional array\n",
    "# \n",
    "const = tf.constant(43)"
   ]
  },
  {
   "cell_type": "code",
   "execution_count": 3,
   "id": "c541409b",
   "metadata": {},
   "outputs": [],
   "source": [
    "const_mat = tf.constant([[1,3],[4,5]],dtype=tf.float32)"
   ]
  },
  {
   "cell_type": "code",
   "execution_count": 6,
   "id": "03ee3d27",
   "metadata": {},
   "outputs": [
    {
     "data": {
      "text/plain": [
       "[]"
      ]
     },
     "execution_count": 6,
     "metadata": {},
     "output_type": "execute_result"
    }
   ],
   "source": [
    "tf.config.list_physical_devices('GPU')"
   ]
  },
  {
   "cell_type": "code",
   "execution_count": 5,
   "id": "92aa252e",
   "metadata": {},
   "outputs": [
    {
     "data": {
      "text/plain": [
       "<tf.Tensor: shape=(2, 2), dtype=float32, numpy=\n",
       "array([[1., 3.],\n",
       "       [4., 5.]], dtype=float32)>"
      ]
     },
     "execution_count": 5,
     "metadata": {},
     "output_type": "execute_result"
    }
   ],
   "source": [
    "const_mat"
   ]
  },
  {
   "cell_type": "code",
   "execution_count": 7,
   "id": "b4237939",
   "metadata": {},
   "outputs": [
    {
     "data": {
      "text/plain": [
       "TensorShape([2, 2])"
      ]
     },
     "execution_count": 7,
     "metadata": {},
     "output_type": "execute_result"
    }
   ],
   "source": [
    "const_mat.shape"
   ]
  },
  {
   "cell_type": "code",
   "execution_count": 8,
   "id": "06e33226",
   "metadata": {},
   "outputs": [
    {
     "data": {
      "text/plain": [
       "<tf.Tensor: shape=(), dtype=float32, numpy=1.0>"
      ]
     },
     "execution_count": 8,
     "metadata": {},
     "output_type": "execute_result"
    }
   ],
   "source": [
    "const_mat[0][0]"
   ]
  },
  {
   "cell_type": "code",
   "execution_count": 10,
   "id": "cf4a7575",
   "metadata": {},
   "outputs": [
    {
     "ename": "TypeError",
     "evalue": "'tensorflow.python.framework.ops.EagerTensor' object does not support item assignment",
     "output_type": "error",
     "traceback": [
      "\u001b[1;31m---------------------------------------------------------------------------\u001b[0m",
      "\u001b[1;31mTypeError\u001b[0m                                 Traceback (most recent call last)",
      "Cell \u001b[1;32mIn[10], line 1\u001b[0m\n\u001b[1;32m----> 1\u001b[0m const_mat[\u001b[38;5;241m0\u001b[39m][\u001b[38;5;241m0\u001b[39m] \u001b[38;5;241m=\u001b[39m \u001b[38;5;241m32\u001b[39m\n",
      "\u001b[1;31mTypeError\u001b[0m: 'tensorflow.python.framework.ops.EagerTensor' object does not support item assignment"
     ]
    }
   ],
   "source": [
    "const_mat[0][0] = 32  ## We cant change the values "
   ]
  },
  {
   "cell_type": "code",
   "execution_count": 12,
   "id": "2d1698f7",
   "metadata": {},
   "outputs": [
    {
     "data": {
      "text/plain": [
       "<tf.Tensor: shape=(2, 3), dtype=float32, numpy=\n",
       "array([[1., 1., 1.],\n",
       "       [1., 1., 1.]], dtype=float32)>"
      ]
     },
     "execution_count": 12,
     "metadata": {},
     "output_type": "execute_result"
    }
   ],
   "source": [
    "tf.ones(shape=(2,3))  # to define biases "
   ]
  },
  {
   "cell_type": "code",
   "execution_count": 13,
   "id": "05c34a2e",
   "metadata": {},
   "outputs": [
    {
     "data": {
      "text/plain": [
       "<tf.Tensor: shape=(2, 3), dtype=float32, numpy=\n",
       "array([[-1., -1., -1.],\n",
       "       [-1., -1., -1.]], dtype=float32)>"
      ]
     },
     "execution_count": 13,
     "metadata": {},
     "output_type": "execute_result"
    }
   ],
   "source": [
    "-1*tf.ones(shape=(2,3))"
   ]
  },
  {
   "cell_type": "code",
   "execution_count": 14,
   "id": "7384576b",
   "metadata": {},
   "outputs": [
    {
     "data": {
      "text/plain": [
       "<tf.Tensor: shape=(2, 4), dtype=float32, numpy=\n",
       "array([[0., 0., 0., 0.],\n",
       "       [0., 0., 0., 0.]], dtype=float32)>"
      ]
     },
     "execution_count": 14,
     "metadata": {},
     "output_type": "execute_result"
    }
   ],
   "source": [
    "tf.zeros(shape=(2,4))  # We can use this as a place holder as well "
   ]
  },
  {
   "cell_type": "code",
   "execution_count": null,
   "id": "ff11bec0",
   "metadata": {},
   "outputs": [],
   "source": []
  },
  {
   "cell_type": "markdown",
   "id": "c28eb79a",
   "metadata": {},
   "source": [
    "# Operations"
   ]
  },
  {
   "cell_type": "code",
   "execution_count": 15,
   "id": "ead29568",
   "metadata": {},
   "outputs": [
    {
     "data": {
      "text/plain": [
       "<tf.Tensor: shape=(2, 3), dtype=int32, numpy=\n",
       "array([[ 4,  6,  8],\n",
       "       [ 9,  8, 12]])>"
      ]
     },
     "execution_count": 15,
     "metadata": {},
     "output_type": "execute_result"
    }
   ],
   "source": [
    "const1 = tf.constant([[1,2,3],[4,5,6]])\n",
    "const2 = tf.constant([[3,4,5],[5,3,6]])\n",
    "\n",
    "tf.add(const1,const2)"
   ]
  },
  {
   "cell_type": "code",
   "execution_count": 16,
   "id": "11fc5d5b",
   "metadata": {},
   "outputs": [
    {
     "data": {
      "text/plain": [
       "<tf.Tensor: shape=(2, 2), dtype=float32, numpy=\n",
       "array([[ 0.95940316,  0.5688563 ],\n",
       "       [-1.0859382 ,  1.9221587 ]], dtype=float32)>"
      ]
     },
     "execution_count": 16,
     "metadata": {},
     "output_type": "execute_result"
    }
   ],
   "source": [
    "###### Define random constant values\n",
    "tf.random.normal(shape=(2,2),mean=0 , stddev = 1.0)"
   ]
  },
  {
   "cell_type": "code",
   "execution_count": 17,
   "id": "d27331bc",
   "metadata": {},
   "outputs": [
    {
     "data": {
      "text/plain": [
       "<tf.Tensor: shape=(2, 2), dtype=float32, numpy=\n",
       "array([[13.161289 ,  3.449943 ],\n",
       "       [ 7.6917434,  3.0104733]], dtype=float32)>"
      ]
     },
     "execution_count": 17,
     "metadata": {},
     "output_type": "execute_result"
    }
   ],
   "source": [
    "tf.random.uniform(shape=(2,2),minval=0 , maxval = 20)"
   ]
  },
  {
   "cell_type": "markdown",
   "id": "f5865f94",
   "metadata": {},
   "source": [
    "# Variables"
   ]
  },
  {
   "cell_type": "code",
   "execution_count": 19,
   "id": "6a18e0b8",
   "metadata": {},
   "outputs": [],
   "source": [
    "var1 = tf.Variable([[1,2,3],[4,5,6]])"
   ]
  },
  {
   "cell_type": "code",
   "execution_count": 20,
   "id": "ee0b910c",
   "metadata": {},
   "outputs": [
    {
     "data": {
      "text/plain": [
       "<tf.Variable 'Variable:0' shape=(2, 3) dtype=int32, numpy=\n",
       "array([[1, 2, 3],\n",
       "       [4, 5, 6]])>"
      ]
     },
     "execution_count": 20,
     "metadata": {},
     "output_type": "execute_result"
    }
   ],
   "source": [
    "var1"
   ]
  },
  {
   "cell_type": "code",
   "execution_count": 22,
   "id": "2777dd25",
   "metadata": {},
   "outputs": [
    {
     "data": {
      "text/plain": [
       "<tf.Variable 'Variable:0' shape=() dtype=int32, numpy=22>"
      ]
     },
     "execution_count": 22,
     "metadata": {},
     "output_type": "execute_result"
    }
   ],
   "source": [
    "var2 = tf.Variable(43)\n",
    "var2.assign(22)\n",
    "var2  # We can change the values of Variable"
   ]
  },
  {
   "cell_type": "code",
   "execution_count": 24,
   "id": "3bc53514",
   "metadata": {},
   "outputs": [
    {
     "data": {
      "text/plain": [
       "<tf.Variable 'Variable:0' shape=(2, 3) dtype=int32, numpy=\n",
       "array([[21,  2,  3],\n",
       "       [ 4, 21,  6]])>"
      ]
     },
     "execution_count": 24,
     "metadata": {},
     "output_type": "execute_result"
    }
   ],
   "source": [
    "var1[0,0].assign(21)\n",
    "var1"
   ]
  },
  {
   "cell_type": "code",
   "execution_count": null,
   "id": "e32edaef",
   "metadata": {},
   "outputs": [],
   "source": []
  },
  {
   "cell_type": "code",
   "execution_count": null,
   "id": "57aa5706",
   "metadata": {},
   "outputs": [],
   "source": []
  },
  {
   "cell_type": "markdown",
   "id": "687e2d22",
   "metadata": {},
   "source": [
    "# Reshaping"
   ]
  },
  {
   "cell_type": "code",
   "execution_count": 25,
   "id": "8bae51ff",
   "metadata": {},
   "outputs": [
    {
     "data": {
      "text/plain": [
       "TensorShape([2, 3])"
      ]
     },
     "execution_count": 25,
     "metadata": {},
     "output_type": "execute_result"
    }
   ],
   "source": [
    "tensor = tf.Variable([[22,2,3],[4,5,6]])\n",
    "tensor.shape"
   ]
  },
  {
   "cell_type": "code",
   "execution_count": 26,
   "id": "ac5306af",
   "metadata": {},
   "outputs": [
    {
     "data": {
      "text/plain": [
       "<tf.Tensor: shape=(3, 2), dtype=int32, numpy=\n",
       "array([[22,  2],\n",
       "       [ 3,  4],\n",
       "       [ 5,  6]])>"
      ]
     },
     "execution_count": 26,
     "metadata": {},
     "output_type": "execute_result"
    }
   ],
   "source": [
    "tf.reshape(tensor,[3,2])  # Transpose "
   ]
  },
  {
   "cell_type": "code",
   "execution_count": 28,
   "id": "4c73771f",
   "metadata": {},
   "outputs": [
    {
     "data": {
      "text/plain": [
       "<tf.Tensor: shape=(1, 6), dtype=int32, numpy=array([[22,  2,  3,  4,  5,  6]])>"
      ]
     },
     "execution_count": 28,
     "metadata": {},
     "output_type": "execute_result"
    }
   ],
   "source": [
    "tf.reshape(tensor,[1,6])"
   ]
  },
  {
   "cell_type": "code",
   "execution_count": 27,
   "id": "a6dba74a",
   "metadata": {},
   "outputs": [
    {
     "data": {
      "text/plain": [
       "<tf.Tensor: shape=(6, 1), dtype=int32, numpy=\n",
       "array([[22],\n",
       "       [ 2],\n",
       "       [ 3],\n",
       "       [ 4],\n",
       "       [ 5],\n",
       "       [ 6]])>"
      ]
     },
     "execution_count": 27,
     "metadata": {},
     "output_type": "execute_result"
    }
   ],
   "source": [
    "tf.reshape(tensor,[6,1])"
   ]
  },
  {
   "cell_type": "code",
   "execution_count": 30,
   "id": "11e6137b",
   "metadata": {},
   "outputs": [
    {
     "data": {
      "text/plain": [
       "<tf.Tensor: shape=(2, 3), dtype=int32, numpy=\n",
       "array([[441,   4,   9],\n",
       "       [ 16, 441,  36]])>"
      ]
     },
     "execution_count": 30,
     "metadata": {},
     "output_type": "execute_result"
    }
   ],
   "source": [
    "tf.square(var1)"
   ]
  },
  {
   "cell_type": "code",
   "execution_count": null,
   "id": "a530cce6",
   "metadata": {},
   "outputs": [],
   "source": []
  },
  {
   "cell_type": "code",
   "execution_count": null,
   "id": "efb6f222",
   "metadata": {},
   "outputs": [],
   "source": []
  },
  {
   "cell_type": "markdown",
   "id": "4dc57116",
   "metadata": {},
   "source": [
    "# Rank of tensors"
   ]
  },
  {
   "cell_type": "code",
   "execution_count": 34,
   "id": "8110360c",
   "metadata": {},
   "outputs": [
    {
     "data": {
      "text/plain": [
       "<tf.Tensor: shape=(), dtype=int32, numpy=2>"
      ]
     },
     "execution_count": 34,
     "metadata": {},
     "output_type": "execute_result"
    }
   ],
   "source": [
    "tensor = tf.Variable([[22,2,3],[4,5,6]])\n",
    "tf.rank(tensor)  # no of dimensions"
   ]
  },
  {
   "cell_type": "code",
   "execution_count": 37,
   "id": "a3f4817d",
   "metadata": {},
   "outputs": [
    {
     "data": {
      "text/plain": [
       "<tf.Tensor: shape=(), dtype=int32, numpy=15>"
      ]
     },
     "execution_count": 37,
     "metadata": {},
     "output_type": "execute_result"
    }
   ],
   "source": [
    "tensor = tf.Variable([[[10, 11, 12], [13, 15, 18]],[[10, 11, 12], [13, 15, 18]]])\n",
    "tensor[0, 1, 1]"
   ]
  },
  {
   "cell_type": "code",
   "execution_count": 38,
   "id": "ae5b55d8",
   "metadata": {},
   "outputs": [
    {
     "data": {
      "text/plain": [
       "<tf.Variable 'Variable:0' shape=(2, 2, 3) dtype=int32, numpy=\n",
       "array([[[10, 11, 12],\n",
       "        [13, 15, 18]],\n",
       "\n",
       "       [[10, 11, 12],\n",
       "        [13, 15, 18]]])>"
      ]
     },
     "execution_count": 38,
     "metadata": {},
     "output_type": "execute_result"
    }
   ],
   "source": [
    "tensor"
   ]
  },
  {
   "cell_type": "code",
   "execution_count": 39,
   "id": "0e1aaf9a",
   "metadata": {},
   "outputs": [
    {
     "data": {
      "text/plain": [
       "<tf.Tensor: shape=(2, 2), dtype=int32, numpy=\n",
       "array([[11, 12],\n",
       "       [15, 18]])>"
      ]
     },
     "execution_count": 39,
     "metadata": {},
     "output_type": "execute_result"
    }
   ],
   "source": [
    "tensor[0,:,1:]"
   ]
  },
  {
   "cell_type": "code",
   "execution_count": null,
   "id": "407d2cfe",
   "metadata": {},
   "outputs": [],
   "source": []
  },
  {
   "cell_type": "markdown",
   "id": "ed537495",
   "metadata": {},
   "source": [
    "# More Operations"
   ]
  },
  {
   "cell_type": "code",
   "execution_count": 40,
   "id": "2da9713d",
   "metadata": {},
   "outputs": [],
   "source": [
    "a = tf.random.normal((2,2))\n",
    "b = tf.random.normal((2,2))\n",
    "\n",
    "c = a + b"
   ]
  },
  {
   "cell_type": "code",
   "execution_count": 41,
   "id": "f5db4767",
   "metadata": {},
   "outputs": [
    {
     "data": {
      "text/plain": [
       "<tf.Tensor: shape=(2, 2), dtype=float32, numpy=\n",
       "array([[0.00961983, 0.47390854],\n",
       "       [7.225885  , 8.835837  ]], dtype=float32)>"
      ]
     },
     "execution_count": 41,
     "metadata": {},
     "output_type": "execute_result"
    }
   ],
   "source": [
    "tf.square(c)"
   ]
  },
  {
   "cell_type": "code",
   "execution_count": 42,
   "id": "e832ea58",
   "metadata": {},
   "outputs": [
    {
     "data": {
      "text/plain": [
       "<tf.Tensor: shape=(2, 2), dtype=float32, numpy=\n",
       "array([[1.1030518 , 1.9905484 ],\n",
       "       [0.06800999, 0.05117451]], dtype=float32)>"
      ]
     },
     "execution_count": 42,
     "metadata": {},
     "output_type": "execute_result"
    }
   ],
   "source": [
    "tf.exp(c)"
   ]
  },
  {
   "cell_type": "code",
   "execution_count": 43,
   "id": "ec861f48",
   "metadata": {},
   "outputs": [
    {
     "data": {
      "text/plain": [
       "<tf.Variable 'Variable:0' shape=(2, 2, 3) dtype=int32, numpy=\n",
       "array([[[10, 11, 12],\n",
       "        [13, 15, 18]],\n",
       "\n",
       "       [[10, 11, 12],\n",
       "        [13, 15, 18]]])>"
      ]
     },
     "execution_count": 43,
     "metadata": {},
     "output_type": "execute_result"
    }
   ],
   "source": [
    "# Element wise multiplication - \n",
    "tensor"
   ]
  },
  {
   "cell_type": "code",
   "execution_count": 44,
   "id": "5d3fbd22",
   "metadata": {},
   "outputs": [
    {
     "data": {
      "text/plain": [
       "<tf.Tensor: shape=(2, 2, 3), dtype=int32, numpy=\n",
       "array([[[100, 121, 144],\n",
       "        [169, 225, 324]],\n",
       "\n",
       "       [[100, 121, 144],\n",
       "        [169, 225, 324]]])>"
      ]
     },
     "execution_count": 44,
     "metadata": {},
     "output_type": "execute_result"
    }
   ],
   "source": [
    "tensor * tensor"
   ]
  },
  {
   "cell_type": "code",
   "execution_count": null,
   "id": "e04042d7",
   "metadata": {},
   "outputs": [],
   "source": []
  },
  {
   "cell_type": "markdown",
   "id": "63e1aaad",
   "metadata": {},
   "source": [
    "# Broadcasting"
   ]
  },
  {
   "cell_type": "code",
   "execution_count": 45,
   "id": "23396deb",
   "metadata": {},
   "outputs": [
    {
     "data": {
      "text/plain": [
       "<tf.Tensor: shape=(2, 2, 3), dtype=int32, numpy=\n",
       "array([[[40, 44, 48],\n",
       "        [52, 60, 72]],\n",
       "\n",
       "       [[40, 44, 48],\n",
       "        [52, 60, 72]]])>"
      ]
     },
     "execution_count": 45,
     "metadata": {},
     "output_type": "execute_result"
    }
   ],
   "source": [
    "scaler = 4\n",
    "scaler * tensor"
   ]
  },
  {
   "cell_type": "code",
   "execution_count": 46,
   "id": "7a97512f",
   "metadata": {},
   "outputs": [
    {
     "data": {
      "text/plain": [
       "<tf.Tensor: shape=(2, 2, 3), dtype=int32, numpy=\n",
       "array([[[14, 15, 16],\n",
       "        [17, 19, 22]],\n",
       "\n",
       "       [[14, 15, 16],\n",
       "        [17, 19, 22]]])>"
      ]
     },
     "execution_count": 46,
     "metadata": {},
     "output_type": "execute_result"
    }
   ],
   "source": [
    "scaler + tensor"
   ]
  },
  {
   "cell_type": "code",
   "execution_count": 47,
   "id": "968804b3",
   "metadata": {},
   "outputs": [
    {
     "data": {
      "text/plain": [
       "<tf.Tensor: shape=(2, 2, 3), dtype=int32, numpy=\n",
       "array([[[ -6,  -7,  -8],\n",
       "        [ -9, -11, -14]],\n",
       "\n",
       "       [[ -6,  -7,  -8],\n",
       "        [ -9, -11, -14]]])>"
      ]
     },
     "execution_count": 47,
     "metadata": {},
     "output_type": "execute_result"
    }
   ],
   "source": [
    "scaler - tensor"
   ]
  },
  {
   "cell_type": "code",
   "execution_count": null,
   "id": "c87d3663",
   "metadata": {},
   "outputs": [],
   "source": []
  },
  {
   "cell_type": "markdown",
   "id": "d9336e2b",
   "metadata": {},
   "source": [
    "# Matrix multiplication "
   ]
  },
  {
   "cell_type": "code",
   "execution_count": 48,
   "id": "c8da3d84",
   "metadata": {},
   "outputs": [],
   "source": [
    "mat_u = tf.constant([[6,7,7]])\n",
    "mat_v = tf.constant([[3,4,3]])"
   ]
  },
  {
   "cell_type": "code",
   "execution_count": 49,
   "id": "72921f8b",
   "metadata": {},
   "outputs": [
    {
     "data": {
      "text/plain": [
       "TensorShape([1, 3])"
      ]
     },
     "execution_count": 49,
     "metadata": {},
     "output_type": "execute_result"
    }
   ],
   "source": [
    "mat_u.shape"
   ]
  },
  {
   "cell_type": "code",
   "execution_count": 50,
   "id": "62e74d81",
   "metadata": {},
   "outputs": [
    {
     "data": {
      "text/plain": [
       "TensorShape([3, 1])"
      ]
     },
     "execution_count": 50,
     "metadata": {},
     "output_type": "execute_result"
    }
   ],
   "source": [
    "tf.transpose(mat_v).shape"
   ]
  },
  {
   "cell_type": "code",
   "execution_count": 51,
   "id": "37c18d0e",
   "metadata": {},
   "outputs": [
    {
     "data": {
      "text/plain": [
       "array([[6, 7, 7]])"
      ]
     },
     "execution_count": 51,
     "metadata": {},
     "output_type": "execute_result"
    }
   ],
   "source": [
    "mat_u.numpy()"
   ]
  },
  {
   "cell_type": "code",
   "execution_count": 52,
   "id": "196d889b",
   "metadata": {},
   "outputs": [
    {
     "data": {
      "text/plain": [
       "array([[3],\n",
       "       [4],\n",
       "       [3]])"
      ]
     },
     "execution_count": 52,
     "metadata": {},
     "output_type": "execute_result"
    }
   ],
   "source": [
    "tf.transpose(mat_v).numpy()"
   ]
  },
  {
   "cell_type": "code",
   "execution_count": 53,
   "id": "42216547",
   "metadata": {},
   "outputs": [
    {
     "data": {
      "text/plain": [
       "<tf.Tensor: shape=(1, 1), dtype=int32, numpy=array([[67]])>"
      ]
     },
     "execution_count": 53,
     "metadata": {},
     "output_type": "execute_result"
    }
   ],
   "source": [
    "tf.matmul(mat_u, tf.transpose(mat_v))"
   ]
  },
  {
   "cell_type": "code",
   "execution_count": 54,
   "id": "f7414a2c",
   "metadata": {},
   "outputs": [
    {
     "data": {
      "text/plain": [
       "<tf.Tensor: shape=(3, 3), dtype=int32, numpy=\n",
       "array([[18, 21, 21],\n",
       "       [24, 28, 28],\n",
       "       [18, 21, 21]])>"
      ]
     },
     "execution_count": 54,
     "metadata": {},
     "output_type": "execute_result"
    }
   ],
   "source": [
    "tf.matmul(tf.transpose(mat_v), mat_u)"
   ]
  },
  {
   "cell_type": "code",
   "execution_count": 55,
   "id": "acb484f3",
   "metadata": {},
   "outputs": [
    {
     "data": {
      "text/plain": [
       "<tf.Tensor: shape=(3, 3), dtype=int32, numpy=\n",
       "array([[18, 21, 21],\n",
       "       [24, 28, 28],\n",
       "       [18, 21, 21]])>"
      ]
     },
     "execution_count": 55,
     "metadata": {},
     "output_type": "execute_result"
    }
   ],
   "source": [
    "tf.transpose(mat_v) @ mat_u ### <<< Matrix mul"
   ]
  },
  {
   "cell_type": "code",
   "execution_count": 56,
   "id": "dfe5fcd8",
   "metadata": {},
   "outputs": [
    {
     "data": {
      "text/plain": [
       "<tf.Tensor: shape=(1, 1), dtype=int32, numpy=array([[67]])>"
      ]
     },
     "execution_count": 56,
     "metadata": {},
     "output_type": "execute_result"
    }
   ],
   "source": [
    "mat_u @ tf.transpose(mat_v) ### <<< Matrix mul"
   ]
  },
  {
   "cell_type": "code",
   "execution_count": 57,
   "id": "edf9ba74",
   "metadata": {},
   "outputs": [
    {
     "data": {
      "text/plain": [
       "<tf.Tensor: shape=(1, 3), dtype=int32, numpy=array([[18, 28, 21]])>"
      ]
     },
     "execution_count": 57,
     "metadata": {},
     "output_type": "execute_result"
    }
   ],
   "source": [
    "mat_u * mat_v # element wise multiplication"
   ]
  },
  {
   "cell_type": "code",
   "execution_count": null,
   "id": "fe769d7e",
   "metadata": {},
   "outputs": [],
   "source": []
  },
  {
   "cell_type": "markdown",
   "id": "b8b0aa85",
   "metadata": {},
   "source": [
    "# Squared difference of tensors"
   ]
  },
  {
   "cell_type": "code",
   "execution_count": 58,
   "id": "49531dcf",
   "metadata": {},
   "outputs": [
    {
     "data": {
      "text/plain": [
       "<tf.Tensor: shape=(6,), dtype=int32, numpy=array([ 1,  0,  1,  4,  9, 16])>"
      ]
     },
     "execution_count": 58,
     "metadata": {},
     "output_type": "execute_result"
    }
   ],
   "source": [
    "varx = [1,2,3,4,5,6]\n",
    "vary= 2 \n",
    "\n",
    "tf.math.squared_difference(varx,vary)"
   ]
  },
  {
   "cell_type": "code",
   "execution_count": 59,
   "id": "0b36771a",
   "metadata": {},
   "outputs": [
    {
     "data": {
      "text/plain": [
       "<tf.Tensor: shape=(6,), dtype=int32, numpy=array([ 0,  1,  4,  9, 16, 25])>"
      ]
     },
     "execution_count": 59,
     "metadata": {},
     "output_type": "execute_result"
    }
   ],
   "source": [
    "pred = [1,2,3,4,5,6]\n",
    "actual = [1,1,1,1,1,1]\n",
    "\n",
    "tf.math.squared_difference(pred, actual)"
   ]
  },
  {
   "cell_type": "code",
   "execution_count": null,
   "id": "3968dd45",
   "metadata": {},
   "outputs": [],
   "source": []
  },
  {
   "cell_type": "markdown",
   "id": "caed6c9b",
   "metadata": {},
   "source": [
    "# Calculate Mean "
   ]
  },
  {
   "cell_type": "code",
   "execution_count": 60,
   "id": "9e55b5a7",
   "metadata": {},
   "outputs": [],
   "source": [
    "num = tf.constant([[1,2],[3,4]], dtype=tf.float32)"
   ]
  },
  {
   "cell_type": "code",
   "execution_count": 69,
   "id": "7adef241",
   "metadata": {},
   "outputs": [
    {
     "data": {
      "text/plain": [
       "<tf.Tensor: shape=(), dtype=float32, numpy=2.5>"
      ]
     },
     "execution_count": 69,
     "metadata": {},
     "output_type": "execute_result"
    }
   ],
   "source": [
    "tf.reduce_mean(num)  # total mean"
   ]
  },
  {
   "cell_type": "code",
   "execution_count": 61,
   "id": "9803622b",
   "metadata": {},
   "outputs": [
    {
     "data": {
      "text/plain": [
       "<tf.Tensor: shape=(2,), dtype=float32, numpy=array([2., 3.], dtype=float32)>"
      ]
     },
     "execution_count": 61,
     "metadata": {},
     "output_type": "execute_result"
    }
   ],
   "source": [
    "tf.reduce_mean(num, axis=0) # row wise mean"
   ]
  },
  {
   "cell_type": "code",
   "execution_count": 62,
   "id": "89baf4ea",
   "metadata": {},
   "outputs": [
    {
     "data": {
      "text/plain": [
       "<tf.Tensor: shape=(2,), dtype=float32, numpy=array([1.5, 3.5], dtype=float32)>"
      ]
     },
     "execution_count": 62,
     "metadata": {},
     "output_type": "execute_result"
    }
   ],
   "source": [
    "tf.reduce_mean(num, axis=1) # col wise mean"
   ]
  },
  {
   "cell_type": "code",
   "execution_count": 63,
   "id": "63abbe16",
   "metadata": {},
   "outputs": [
    {
     "data": {
      "text/plain": [
       "<tf.Tensor: shape=(2, 1), dtype=float32, numpy=\n",
       "array([[1.5],\n",
       "       [3.5]], dtype=float32)>"
      ]
     },
     "execution_count": 63,
     "metadata": {},
     "output_type": "execute_result"
    }
   ],
   "source": [
    "tf.reduce_mean(num, axis=1, keepdims=True) # col wise mean"
   ]
  },
  {
   "cell_type": "code",
   "execution_count": null,
   "id": "4d8d1cf5",
   "metadata": {},
   "outputs": [],
   "source": []
  },
  {
   "cell_type": "code",
   "execution_count": null,
   "id": "b1a192e9",
   "metadata": {},
   "outputs": [],
   "source": []
  },
  {
   "cell_type": "markdown",
   "id": "cbd43f6a",
   "metadata": {},
   "source": [
    "# Ragged tensors ( nested variable length arrays )"
   ]
  },
  {
   "cell_type": "code",
   "execution_count": 65,
   "id": "89b01929",
   "metadata": {},
   "outputs": [],
   "source": [
    "ragged = tf.ragged.constant([[1,2,3,4,5,6],[1],[135,1]])"
   ]
  },
  {
   "cell_type": "code",
   "execution_count": 66,
   "id": "1ef37219",
   "metadata": {},
   "outputs": [
    {
     "data": {
      "text/plain": [
       "TensorShape([3, None])"
      ]
     },
     "execution_count": 66,
     "metadata": {},
     "output_type": "execute_result"
    }
   ],
   "source": [
    "ragged.shape   "
   ]
  },
  {
   "cell_type": "code",
   "execution_count": 67,
   "id": "7efa4eaf",
   "metadata": {},
   "outputs": [
    {
     "data": {
      "text/plain": [
       "<tf.Tensor: shape=(6,), dtype=int32, numpy=array([1, 2, 3, 4, 5, 6])>"
      ]
     },
     "execution_count": 67,
     "metadata": {},
     "output_type": "execute_result"
    }
   ],
   "source": [
    "ragged[0]"
   ]
  },
  {
   "cell_type": "code",
   "execution_count": 68,
   "id": "cde36cf8",
   "metadata": {},
   "outputs": [
    {
     "data": {
      "text/plain": [
       "TensorShape([6])"
      ]
     },
     "execution_count": 68,
     "metadata": {},
     "output_type": "execute_result"
    }
   ],
   "source": [
    "ragged[0].shape"
   ]
  },
  {
   "cell_type": "code",
   "execution_count": null,
   "id": "3a71b24c",
   "metadata": {},
   "outputs": [],
   "source": []
  },
  {
   "cell_type": "markdown",
   "id": "2572a413",
   "metadata": {},
   "source": [
    "# Checkpointing\n",
    "### Restore the matrix values  "
   ]
  },
  {
   "cell_type": "code",
   "execution_count": 71,
   "id": "da2d2b82",
   "metadata": {},
   "outputs": [],
   "source": [
    "var1 = tf.Variable(5*tf.ones((5,5)))"
   ]
  },
  {
   "cell_type": "code",
   "execution_count": 72,
   "id": "3cae72c9",
   "metadata": {},
   "outputs": [
    {
     "data": {
      "text/plain": [
       "<tf.Variable 'Variable:0' shape=(5, 5) dtype=float32, numpy=\n",
       "array([[5., 5., 5., 5., 5.],\n",
       "       [5., 5., 5., 5., 5.],\n",
       "       [5., 5., 5., 5., 5.],\n",
       "       [5., 5., 5., 5., 5.],\n",
       "       [5., 5., 5., 5., 5.]], dtype=float32)>"
      ]
     },
     "execution_count": 72,
     "metadata": {},
     "output_type": "execute_result"
    }
   ],
   "source": [
    "var1"
   ]
  },
  {
   "cell_type": "code",
   "execution_count": 73,
   "id": "23658a75",
   "metadata": {},
   "outputs": [],
   "source": [
    "ckpt = tf.train.Checkpoint(var=var1)\n",
    "savepath = ckpt.save('vars.ckpt')"
   ]
  },
  {
   "cell_type": "code",
   "execution_count": 74,
   "id": "2e246566",
   "metadata": {},
   "outputs": [
    {
     "data": {
      "text/plain": [
       "<tf.Variable 'UnreadVariable' shape=(5, 5) dtype=float32, numpy=\n",
       "array([[0., 0., 0., 0., 0.],\n",
       "       [0., 0., 0., 0., 0.],\n",
       "       [0., 0., 0., 0., 0.],\n",
       "       [0., 0., 0., 0., 0.],\n",
       "       [0., 0., 0., 0., 0.]], dtype=float32)>"
      ]
     },
     "execution_count": 74,
     "metadata": {},
     "output_type": "execute_result"
    }
   ],
   "source": [
    "var1.assign(tf.zeros((5,5)))"
   ]
  },
  {
   "cell_type": "code",
   "execution_count": 76,
   "id": "431df893",
   "metadata": {},
   "outputs": [
    {
     "data": {
      "text/plain": [
       "<tensorflow.python.checkpoint.checkpoint.CheckpointLoadStatus at 0x27d2c261b50>"
      ]
     },
     "execution_count": 76,
     "metadata": {},
     "output_type": "execute_result"
    }
   ],
   "source": [
    "ckpt.restore(savepath)"
   ]
  },
  {
   "cell_type": "code",
   "execution_count": 77,
   "id": "15bcc2f2",
   "metadata": {},
   "outputs": [
    {
     "data": {
      "text/plain": [
       "<tf.Variable 'Variable:0' shape=(5, 5) dtype=float32, numpy=\n",
       "array([[5., 5., 5., 5., 5.],\n",
       "       [5., 5., 5., 5., 5.],\n",
       "       [5., 5., 5., 5., 5.],\n",
       "       [5., 5., 5., 5., 5.],\n",
       "       [5., 5., 5., 5., 5.]], dtype=float32)>"
      ]
     },
     "execution_count": 77,
     "metadata": {},
     "output_type": "execute_result"
    }
   ],
   "source": [
    "var1"
   ]
  },
  {
   "cell_type": "code",
   "execution_count": null,
   "id": "a86c0805",
   "metadata": {},
   "outputs": [],
   "source": []
  },
  {
   "cell_type": "code",
   "execution_count": null,
   "id": "b72128e5",
   "metadata": {},
   "outputs": [],
   "source": []
  },
  {
   "cell_type": "markdown",
   "id": "67c3ead3",
   "metadata": {},
   "source": [
    "# Tensorflow functions "
   ]
  },
  {
   "cell_type": "markdown",
   "id": "55ce585c",
   "metadata": {},
   "source": [
    "$z = x^3 * 6 + y^3$"
   ]
  },
  {
   "cell_type": "code",
   "execution_count": 78,
   "id": "a6e66959",
   "metadata": {},
   "outputs": [],
   "source": [
    "def f1(x,y):\n",
    "    input_var = tf.multiply(x**3,6) + y**3\n",
    "    return tf.reduce_mean(input_tensor=input_var)"
   ]
  },
  {
   "cell_type": "code",
   "execution_count": 80,
   "id": "79228c34",
   "metadata": {},
   "outputs": [],
   "source": [
    "func = tf.function(f1)   # This will take the function as a tensorflow function "
   ]
  },
  {
   "cell_type": "code",
   "execution_count": 81,
   "id": "59e3f169",
   "metadata": {},
   "outputs": [],
   "source": [
    "x = tf.constant([3.,-4.])\n",
    "y = tf.constant([1.,4.])"
   ]
  },
  {
   "cell_type": "code",
   "execution_count": 82,
   "id": "80b2a590",
   "metadata": {},
   "outputs": [
    {
     "data": {
      "text/plain": [
       "<tf.Tensor: shape=(), dtype=float32, numpy=-78.5>"
      ]
     },
     "execution_count": 82,
     "metadata": {},
     "output_type": "execute_result"
    }
   ],
   "source": [
    "f1(x,y) ## using a simple python function"
   ]
  },
  {
   "cell_type": "code",
   "execution_count": 85,
   "id": "8eacd387",
   "metadata": {},
   "outputs": [],
   "source": [
    "@tf.function ## tf decorator function\n",
    "def f2(x, y):\n",
    "  input_var = tf.multiply(x ** 3, 6) + y ** 3\n",
    "  return tf.reduce_mean(input_tensor=input_var)\n",
    "\n",
    "## Decorator is a more of a like wrapper and it provides more functionalities to the function without \n",
    "## changing the definition"
   ]
  },
  {
   "cell_type": "code",
   "execution_count": 84,
   "id": "67a637b2",
   "metadata": {},
   "outputs": [
    {
     "data": {
      "text/plain": [
       "<tf.Tensor: shape=(), dtype=float32, numpy=-78.5>"
      ]
     },
     "execution_count": 84,
     "metadata": {},
     "output_type": "execute_result"
    }
   ],
   "source": [
    "f2(x,y)"
   ]
  },
  {
   "cell_type": "code",
   "execution_count": null,
   "id": "f4608280",
   "metadata": {},
   "outputs": [],
   "source": []
  },
  {
   "cell_type": "markdown",
   "id": "fe979ccb",
   "metadata": {},
   "source": [
    "#### Decorators"
   ]
  },
  {
   "cell_type": "code",
   "execution_count": 86,
   "id": "be5b37d0",
   "metadata": {},
   "outputs": [],
   "source": [
    "def print_me():\n",
    "  print(\"Hi FSDS\")"
   ]
  },
  {
   "cell_type": "code",
   "execution_count": 87,
   "id": "e6a9e7b2",
   "metadata": {},
   "outputs": [
    {
     "name": "stdout",
     "output_type": "stream",
     "text": [
      "****************************************\n",
      "Hi FSDS\n",
      "****************************************\n"
     ]
    }
   ],
   "source": [
    "print(\"**\"*20)\n",
    "print_me()\n",
    "print(\"**\"*20)"
   ]
  },
  {
   "cell_type": "code",
   "execution_count": 88,
   "id": "b4e45fcf",
   "metadata": {},
   "outputs": [],
   "source": [
    "def decorate_it(input_func):\n",
    "  def decorated_func():\n",
    "    print(\"**\"*20)\n",
    "    input_func()\n",
    "    print(\"**\"*20)\n",
    "\n",
    "  return decorated_func"
   ]
  },
  {
   "cell_type": "code",
   "execution_count": 89,
   "id": "fcc58bc6",
   "metadata": {},
   "outputs": [
    {
     "name": "stdout",
     "output_type": "stream",
     "text": [
      "****************************************\n",
      "Hi FSDS\n",
      "****************************************\n"
     ]
    }
   ],
   "source": [
    "decorated_func = decorate_it(print_me)\n",
    "\n",
    "decorated_func()"
   ]
  },
  {
   "cell_type": "code",
   "execution_count": null,
   "id": "36396f80",
   "metadata": {},
   "outputs": [],
   "source": []
  },
  {
   "cell_type": "code",
   "execution_count": null,
   "id": "4d2b1f19",
   "metadata": {},
   "outputs": [],
   "source": []
  },
  {
   "cell_type": "markdown",
   "id": "554e4c6f",
   "metadata": {},
   "source": [
    "# Calculating Gradients"
   ]
  },
  {
   "cell_type": "code",
   "execution_count": 91,
   "id": "c8e022b6",
   "metadata": {},
   "outputs": [
    {
     "name": "stdout",
     "output_type": "stream",
     "text": [
      "tf.Tensor(\n",
      "[[-0.66421294 -0.03116129]\n",
      " [ 1.5746359   0.7674743 ]], shape=(2, 2), dtype=float32)\n",
      "tf.Tensor(\n",
      "[[-1.1033082  -1.2544963 ]\n",
      " [-0.600059   -0.52920145]], shape=(2, 2), dtype=float32)\n"
     ]
    }
   ],
   "source": [
    "x = tf.random.normal(shape=(2,2)) ## this creates a const by default\n",
    "y = tf.random.normal(shape=(2,2))\n",
    "print(x)\n",
    "print(y)"
   ]
  },
  {
   "cell_type": "markdown",
   "id": "427d74ce",
   "metadata": {},
   "source": [
    "$f(x,y) = \\sqrt{(x^2 + y^2)}$\n",
    "\n",
    "$\\nabla f(x,y) = \\frac{\\partial f}{\\partial x} \\hat{\\imath} + \\frac{\\partial f}{\\partial y} \\hat{\\jmath}$"
   ]
  },
  {
   "cell_type": "code",
   "execution_count": 90,
   "id": "f80abd37",
   "metadata": {},
   "outputs": [
    {
     "name": "stdout",
     "output_type": "stream",
     "text": [
      "tf.Tensor([ 0.94868326 -0.70710677], shape=(2,), dtype=float32)\n"
     ]
    }
   ],
   "source": [
    "with tf.GradientTape() as tape:\n",
    "  tape.watch(x) ### <<< I want to calculate grad wrt x\n",
    "  f = tf.sqrt(tf.square(x) + tf.square(y))\n",
    "\n",
    "  df_dx = tape.gradient(f, x)   #  partial derivative of f with respect to x \n",
    "\n",
    "  print(df_dx)"
   ]
  },
  {
   "cell_type": "code",
   "execution_count": 99,
   "id": "4159e5ed",
   "metadata": {},
   "outputs": [
    {
     "name": "stdout",
     "output_type": "stream",
     "text": [
      "tf.Tensor(0.5547002, shape=(), dtype=float32)\n"
     ]
    }
   ],
   "source": [
    "with tf.GradientTape() as tape:\n",
    "  tape.watch(y) ### <<< I want to calculate grad wrt y\n",
    "  f = tf.sqrt(tf.square(x) + tf.square(y))\n",
    "\n",
    "  df_dy = tape.gradient(f, y)  #  partial derivative of f with respect to y\n",
    "\n",
    "  print(df_dy)"
   ]
  },
  {
   "cell_type": "code",
   "execution_count": 100,
   "id": "4213c3f2",
   "metadata": {},
   "outputs": [
    {
     "name": "stdout",
     "output_type": "stream",
     "text": [
      "tf.Tensor(0.8320503, shape=(), dtype=float32)\n",
      "tf.Tensor(0.5547002, shape=(), dtype=float32)\n"
     ]
    }
   ],
   "source": [
    "with tf.GradientTape() as tape:\n",
    "  tape.watch(y) ### <<< I want to calculate grad wrt y\n",
    "  tape.watch(x) ### <<< I want to calculate grad wrt x\n",
    "  f = tf.sqrt(tf.square(x) + tf.square(y))\n",
    "\n",
    "  df_dx, df_dy = tape.gradient(f, [x, y]) \n",
    "    ## partial diff wrt x and y  , we can use this to find the gradient \n",
    "\n",
    "  print(df_dx)\n",
    "  print(df_dy)"
   ]
  },
  {
   "cell_type": "code",
   "execution_count": null,
   "id": "b838eb5a",
   "metadata": {},
   "outputs": [],
   "source": []
  },
  {
   "cell_type": "code",
   "execution_count": null,
   "id": "f3b914ec",
   "metadata": {},
   "outputs": [],
   "source": []
  },
  {
   "cell_type": "code",
   "execution_count": 93,
   "id": "6a202735",
   "metadata": {},
   "outputs": [],
   "source": [
    "## tf.watch is only needed when X and Y are not variables.Because we have defined x and y using \n",
    "# tf.random.normal(shape=(2,2))  and it creates a constant . If we define the x and y in the following way\n",
    "# we dont have to use tape.watch()\n",
    "x= tf.Variable(tf.random.normal(shape=(2,2)))\n",
    "y = tf.Variable(tf.random.normal(shape=(2,2)))"
   ]
  },
  {
   "cell_type": "code",
   "execution_count": 94,
   "id": "e94aa14a",
   "metadata": {
    "scrolled": true
   },
   "outputs": [
    {
     "name": "stdout",
     "output_type": "stream",
     "text": [
      "tf.Tensor(\n",
      "[[ 0.99358654  0.9674144 ]\n",
      " [-0.58394885  0.70098746]], shape=(2, 2), dtype=float32)\n",
      "tf.Tensor(\n",
      "[[ 0.1130739  -0.25319842]\n",
      " [ 0.81179047  0.71317357]], shape=(2, 2), dtype=float32)\n"
     ]
    }
   ],
   "source": [
    "with tf.GradientTape() as tape:\n",
    "  f = tf.sqrt(tf.square(x) + tf.square(y))\n",
    "\n",
    "  df_dx, df_dy = tape.gradient(f, [x, y]) ## partial diff wrt x and y\n",
    "\n",
    "  print(df_dx)\n",
    "  print(df_dy)"
   ]
  },
  {
   "cell_type": "code",
   "execution_count": null,
   "id": "325a17f5",
   "metadata": {},
   "outputs": [],
   "source": []
  },
  {
   "cell_type": "code",
   "execution_count": 95,
   "id": "29aeb26f",
   "metadata": {},
   "outputs": [],
   "source": [
    "x = tf.Variable(3.)\n",
    "y = tf.Variable(2.)"
   ]
  },
  {
   "cell_type": "code",
   "execution_count": 96,
   "id": "c5033ee5",
   "metadata": {},
   "outputs": [
    {
     "name": "stdout",
     "output_type": "stream",
     "text": [
      "tf.Tensor(0.8320503, shape=(), dtype=float32)\n",
      "tf.Tensor(0.5547002, shape=(), dtype=float32)\n"
     ]
    }
   ],
   "source": [
    "with tf.GradientTape() as tape:\n",
    "  f = tf.sqrt(tf.square(x) + tf.square(y))\n",
    "\n",
    "  df_dx, df_dy = tape.gradient(f, [x, y]) ## partial diff wrt x and y\n",
    "\n",
    "  print(df_dx)\n",
    "  print(df_dy)"
   ]
  },
  {
   "cell_type": "code",
   "execution_count": 97,
   "id": "43741dc9",
   "metadata": {},
   "outputs": [
    {
     "data": {
      "text/plain": [
       "<tf.Tensor: shape=(), dtype=float32, numpy=0.8320503>"
      ]
     },
     "execution_count": 97,
     "metadata": {},
     "output_type": "execute_result"
    }
   ],
   "source": [
    "x/tf.sqrt(tf.square(x) + tf.square(y))"
   ]
  },
  {
   "cell_type": "code",
   "execution_count": 98,
   "id": "ed232d10",
   "metadata": {},
   "outputs": [
    {
     "data": {
      "text/plain": [
       "<tf.Tensor: shape=(), dtype=float32, numpy=0.5547002>"
      ]
     },
     "execution_count": 98,
     "metadata": {},
     "output_type": "execute_result"
    }
   ],
   "source": [
    "y/tf.sqrt(tf.square(x) + tf.square(y))"
   ]
  },
  {
   "cell_type": "code",
   "execution_count": null,
   "id": "2e6f7753",
   "metadata": {},
   "outputs": [],
   "source": []
  },
  {
   "cell_type": "code",
   "execution_count": null,
   "id": "0467be48",
   "metadata": {},
   "outputs": [],
   "source": []
  },
  {
   "cell_type": "code",
   "execution_count": null,
   "id": "0a27d9ad",
   "metadata": {},
   "outputs": [],
   "source": []
  },
  {
   "cell_type": "markdown",
   "id": "9d66698e",
   "metadata": {},
   "source": [
    "#  Simple linear regression example"
   ]
  },
  {
   "cell_type": "markdown",
   "id": "be0a66ea",
   "metadata": {},
   "source": [
    "$f(x) = W.x + b$"
   ]
  },
  {
   "cell_type": "code",
   "execution_count": 106,
   "id": "a78c2cc6",
   "metadata": {},
   "outputs": [
    {
     "data": {
      "text/plain": [
       "<tf.Tensor: shape=(1000,), dtype=float32, numpy=\n",
       "array([-1.4759703 ,  0.4049943 , -1.096854  ,  1.551027  , -0.29829577,\n",
       "       -1.4317074 ,  1.0723672 ,  0.93685216, -0.7505872 , -0.8582079 ,\n",
       "       -1.0385807 , -0.25600982, -1.7232469 , -0.8294867 ,  1.1849148 ,\n",
       "       -1.2177382 , -0.60418963, -1.5006684 , -0.04608807, -0.4486007 ,\n",
       "       -0.7105434 ,  1.2773851 ,  1.0799265 , -0.21607827,  1.0043161 ,\n",
       "        1.8036053 ,  0.05021073,  1.7038636 ,  1.1214821 , -0.13027395,\n",
       "       -1.7582195 ,  0.15357928,  0.65400255, -0.9903875 ,  2.3056285 ,\n",
       "       -0.31735703, -1.0745888 ,  0.31652528, -0.5340171 ,  0.717644  ,\n",
       "        0.07384992,  0.82135475, -0.63333136,  0.81837124,  0.43767276,\n",
       "        0.04327485, -2.5604534 ,  0.92870563, -0.41711012, -0.958062  ,\n",
       "        1.6413605 ,  0.9239334 ,  0.53494436, -1.4684354 , -2.0646803 ,\n",
       "        1.8508896 , -0.16695385, -0.07315564,  0.42211643, -0.08312966,\n",
       "        1.4963837 ,  0.8060597 ,  0.66809183, -1.4125336 ,  1.6425557 ,\n",
       "        0.16052306, -0.41979423, -0.45674866, -0.8093252 ,  0.5666317 ,\n",
       "        0.4672011 ,  1.250933  , -1.3197438 ,  0.8080966 ,  1.778533  ,\n",
       "        0.44216526,  0.22076839,  1.2484463 ,  0.6488712 ,  0.2858147 ,\n",
       "        0.30732027, -0.01064811, -0.28887817, -2.3324678 ,  0.43304706,\n",
       "       -1.2817265 ,  0.21391256,  0.80092686,  1.4057802 ,  0.44321242,\n",
       "        2.212549  ,  0.33601764,  0.02611294,  0.7270625 , -1.9060022 ,\n",
       "        0.8728676 , -2.1231945 , -1.5412946 , -1.5824684 ,  0.17073184,\n",
       "        1.4299641 , -1.8486937 , -0.7391742 ,  1.7336462 , -0.6515783 ,\n",
       "        0.13534215,  0.74864674,  1.699806  ,  1.0068918 ,  0.08017328,\n",
       "       -1.1106267 ,  0.76325476,  0.83460903,  0.42110395, -0.11912954,\n",
       "        0.7895262 , -0.62384754, -0.6677677 , -0.6451241 ,  0.42562345,\n",
       "        1.0737177 , -0.5859867 , -1.4519198 , -1.1015497 , -0.7238264 ,\n",
       "       -1.5049183 , -0.18070583,  1.4099549 , -0.85262567,  0.53201646,\n",
       "       -0.97647834,  0.27285478,  2.6436996 , -0.66808236,  0.78996325,\n",
       "       -0.30871657, -0.5824318 , -0.1545747 ,  0.82343394,  0.39208877,\n",
       "        0.7576046 , -0.35929152, -0.66061616, -0.85120285, -0.8190228 ,\n",
       "       -0.10771253,  0.9148672 , -0.10087907, -0.45230392,  0.6068765 ,\n",
       "       -0.12331777, -0.3114892 ,  1.2148696 , -1.458281  , -1.5026609 ,\n",
       "       -0.4524012 ,  1.1974748 , -0.52349526, -2.3788826 , -0.2422904 ,\n",
       "        0.11424825,  0.03905782,  0.5412868 , -2.52372   ,  1.8298457 ,\n",
       "        0.8527902 , -1.3332163 , -0.44157055,  1.5414227 ,  0.4522786 ,\n",
       "       -0.69633883,  0.7668396 , -1.1299123 ,  1.010387  ,  1.4183427 ,\n",
       "        1.0752957 ,  0.24816194, -1.0968002 ,  1.1352124 , -0.68856376,\n",
       "        0.46705815, -1.4386684 ,  0.14965875, -1.6717969 ,  1.597003  ,\n",
       "       -0.18526672, -1.1121145 ,  0.04958968,  1.4281538 ,  1.2137539 ,\n",
       "       -0.5880587 ,  0.90546125, -0.7231023 , -0.4781247 , -0.4896328 ,\n",
       "       -1.2963718 , -0.01353043, -1.5292848 ,  0.03685698,  2.0820155 ,\n",
       "        0.554629  ,  0.53014   , -0.49581155, -0.7659029 ,  0.83362794,\n",
       "        1.0075461 ,  0.08875018, -1.234754  ,  0.41329792,  0.18065579,\n",
       "        3.6518552 , -0.71354926, -0.6091064 , -0.82301015, -0.31814075,\n",
       "        0.24271801, -0.97552866, -0.25074154, -1.3373405 , -0.620803  ,\n",
       "       -0.94762504, -0.3993761 , -0.6353965 ,  2.333738  , -0.5225871 ,\n",
       "       -0.88969797, -0.27959532, -2.235469  ,  0.04112507, -1.4136752 ,\n",
       "        0.6997014 , -1.0635685 ,  0.48056436,  0.03838462,  0.11079671,\n",
       "       -1.7753639 ,  0.7058786 , -0.79861593, -0.5821741 , -0.45970646,\n",
       "       -0.8159671 ,  0.5600725 ,  0.282675  ,  1.8503916 , -0.10085401,\n",
       "       -1.0332289 ,  0.30833375, -0.46103525,  1.6683342 , -0.22981898,\n",
       "        0.8463404 , -0.7316096 , -1.158685  ,  0.82509863,  0.8342048 ,\n",
       "        0.429514  ,  0.06846306,  1.0275766 ,  0.03629453,  0.8537347 ,\n",
       "       -0.6684225 ,  1.3936536 , -0.8729323 ,  1.8724675 ,  0.03740644,\n",
       "       -0.8164463 , -0.5609211 ,  1.7019707 , -0.53881687,  0.3305439 ,\n",
       "       -0.18207665, -0.17258523,  1.43283   ,  0.8088299 ,  1.3505603 ,\n",
       "       -0.22997019,  1.3716546 , -0.19119847,  1.1579252 , -0.30872405,\n",
       "       -0.8146754 ,  0.26772892, -0.16244106, -0.0472429 , -1.6207038 ,\n",
       "       -1.7960821 , -2.0800958 , -0.6386522 ,  0.25973114,  0.41657612,\n",
       "       -0.30699134, -0.00455802, -0.3574173 , -0.02245206, -1.3883594 ,\n",
       "        2.059254  , -0.09044422,  2.2413485 , -0.91469264,  0.62153745,\n",
       "       -0.5990543 ,  0.41135108,  1.0994904 , -0.03056257,  1.5135237 ,\n",
       "       -0.35440505, -0.53698295, -0.24600197, -0.12982664, -1.81558   ,\n",
       "        0.32659978, -0.33889332, -0.48720545, -0.8889258 ,  1.2336292 ,\n",
       "       -1.7445034 , -0.93047845,  1.0881066 , -0.61126035,  1.0165446 ,\n",
       "       -0.11910826,  1.1808208 , -1.1781108 , -0.34888592,  1.0206037 ,\n",
       "        0.95620775, -0.44516224,  0.6789413 , -0.54223233,  0.7080978 ,\n",
       "        0.447633  , -0.8166475 , -0.18933184,  0.9704369 , -0.9783981 ,\n",
       "       -0.22151926,  1.1259506 ,  1.48341   , -0.5294017 , -0.79142904,\n",
       "       -0.7032449 ,  0.7411904 , -1.297155  ,  1.1118053 , -0.772401  ,\n",
       "       -0.58016807,  0.13018511, -0.48748922,  0.49551743, -0.10225572,\n",
       "       -1.2476285 ,  1.1806557 , -0.769936  ,  0.16189009,  0.339026  ,\n",
       "       -1.6178181 ,  1.0199008 , -0.71798784,  1.5673003 , -1.9763911 ,\n",
       "       -0.35719138, -0.6089573 ,  0.11677244,  0.68929243,  0.7384856 ,\n",
       "       -1.3024441 , -1.037212  , -0.31429875, -0.49876502,  0.10180128,\n",
       "        0.75671065,  0.8755129 ,  1.1411401 ,  0.49299824,  2.5264037 ,\n",
       "        0.8306943 , -0.6785199 ,  0.1741768 , -1.9856262 ,  1.5459919 ,\n",
       "        1.7369963 ,  1.5539494 ,  1.0337381 , -1.3049973 , -0.59537625,\n",
       "        1.5197343 ,  0.3643811 , -0.41566202,  1.6324929 ,  0.42464942,\n",
       "       -1.4948059 ,  1.6664166 , -0.05794751, -0.6664564 ,  0.2917067 ,\n",
       "        1.4273118 , -0.86962   , -0.3849986 , -0.23485288, -1.481841  ,\n",
       "        0.05567572, -0.43332475, -0.56295556, -0.99168295, -0.22011608,\n",
       "       -2.3659165 , -1.4731687 , -1.3078098 , -0.13750792,  0.1610987 ,\n",
       "        0.04852669, -0.5185618 ,  0.15566888, -1.1343002 ,  1.0423217 ,\n",
       "        0.11964415,  0.03567274,  0.02029474, -0.05133994, -0.3846254 ,\n",
       "        1.6682564 , -0.01670068, -1.519227  , -0.26430497, -0.60810834,\n",
       "       -1.1788338 ,  0.9489987 , -0.70615625, -1.9921814 ,  0.6432247 ,\n",
       "       -1.4972091 ,  0.60198337,  0.05988689,  0.67751026,  0.43139845,\n",
       "       -1.1728047 ,  0.29648182, -0.7530869 , -0.5029456 , -0.3013553 ,\n",
       "        0.43870497, -0.74282354,  0.369151  , -1.7695876 ,  0.13969043,\n",
       "        0.7839661 , -0.40853286,  2.1709552 ,  0.251208  , -0.52039427,\n",
       "       -1.9475455 , -0.0263886 , -0.16967572, -0.7994401 , -0.08149839,\n",
       "        0.6230218 , -1.8424429 ,  0.7711089 ,  0.79718757,  0.30319893,\n",
       "        0.33516702,  1.1513969 , -1.7337202 ,  1.0609592 ,  0.13714157,\n",
       "       -1.5250758 ,  0.6651935 ,  0.08120424,  0.23922712,  0.44692695,\n",
       "       -1.4620231 , -0.8205291 , -0.074311  ,  1.5360396 , -0.11785686,\n",
       "       -1.1294718 , -2.1302278 ,  2.3237636 ,  0.8052452 ,  0.0631978 ,\n",
       "       -0.62093514,  0.4110698 ,  0.925667  ,  1.0013677 ,  1.5988375 ,\n",
       "        0.26964936, -0.7730724 , -1.6733482 ,  0.40908438,  1.1510276 ,\n",
       "        0.17642951, -1.5496157 , -1.3123908 ,  0.41625443,  0.42208025,\n",
       "        0.5416241 ,  0.8823078 ,  0.9359819 ,  0.5567199 , -1.7910606 ,\n",
       "        1.3762419 , -0.99500895,  1.3597705 , -0.7379337 , -0.12321575,\n",
       "       -0.2008324 ,  1.3384974 ,  0.01260853, -0.46286988, -0.7634612 ,\n",
       "       -1.1367311 ,  0.43426418,  0.64246815, -1.7487726 ,  1.2510731 ,\n",
       "        0.34883487, -1.2670143 ,  0.66018903,  0.7153463 ,  0.82959795,\n",
       "        0.2904164 ,  0.2776541 ,  1.0062362 , -0.5270578 , -1.4510847 ,\n",
       "       -1.5628028 , -0.22389746,  0.56280935,  0.9181251 ,  1.2601875 ,\n",
       "       -0.5422178 , -1.9933894 , -1.3089752 ,  0.76872224, -0.28315684,\n",
       "        0.15261975, -0.3305575 ,  0.5724621 ,  0.13424167,  2.2448533 ,\n",
       "       -0.34892812, -0.38727823,  1.0658627 ,  0.20353332,  0.2800705 ,\n",
       "        0.06357121, -0.5761893 ,  1.0671865 ,  0.80048954, -2.682326  ,\n",
       "       -0.89475816, -0.26724237, -0.87635785, -0.6012131 ,  0.7619471 ,\n",
       "       -1.8753988 ,  1.0512133 , -0.08432911, -0.01559153,  0.717359  ,\n",
       "        0.63869095,  1.216033  ,  1.3044226 , -0.52824974, -0.7668535 ,\n",
       "        1.982892  ,  0.9985871 , -1.6377574 , -1.4205407 , -0.01465533,\n",
       "       -2.075089  , -0.8086911 , -1.6981409 , -0.12863378, -0.39092684,\n",
       "       -0.8178949 , -1.865606  ,  0.43021935, -0.91808206,  0.11556141,\n",
       "        0.46088463, -0.04756884,  0.61688507, -0.8016133 ,  0.3529677 ,\n",
       "       -0.3183957 , -1.0819708 ,  0.8356875 ,  1.0802437 , -1.3366857 ,\n",
       "       -1.3440822 , -0.09854645,  0.98960215, -1.4010752 ,  0.0708256 ,\n",
       "       -1.1146978 , -0.29434592,  0.5313447 , -0.8556888 ,  0.3195201 ,\n",
       "       -0.6460497 ,  0.39056513,  0.09590746,  0.36047512, -1.6211505 ,\n",
       "       -0.525581  ,  0.95798916,  2.370683  , -1.6500955 , -1.1901306 ,\n",
       "       -2.008159  , -0.47375995,  1.6837475 ,  2.21751   ,  1.0458692 ,\n",
       "        1.0605996 , -0.7423377 , -1.3163483 , -0.3210801 ,  0.73601204,\n",
       "       -0.8910867 ,  1.0506564 ,  1.4682851 , -0.43264094,  0.9771303 ,\n",
       "        0.56246084,  0.9077951 , -0.34857643,  1.3668032 , -1.1720967 ,\n",
       "       -1.5253069 ,  0.34642786, -1.9367745 , -0.6847857 ,  0.44792154,\n",
       "        0.08240373, -0.03003136,  0.5403838 , -1.3553563 ,  0.16760145,\n",
       "       -0.29418185,  1.5932133 , -1.6244596 , -1.745588  , -0.55360824,\n",
       "       -1.2880325 ,  1.1757321 ,  0.3998757 ,  1.366831  , -0.6963106 ,\n",
       "        2.0504718 ,  0.27546456, -0.38771608, -0.00622369,  0.04448961,\n",
       "       -0.65569246,  1.3229569 ,  0.19703619, -0.47148654,  1.1785959 ,\n",
       "       -1.12363   ,  1.101516  , -0.6790907 , -0.35693952, -2.094645  ,\n",
       "       -1.4877943 ,  0.7811368 , -0.3710408 ,  0.44208232, -0.20623535,\n",
       "        0.01681053,  1.3333944 ,  1.8904803 ,  0.15237118, -0.22265154,\n",
       "       -1.4807681 ,  0.8388662 ,  1.5093634 , -0.37460828,  0.6543895 ,\n",
       "       -0.22044007,  1.2159467 , -0.02909034,  0.9438659 ,  0.5940065 ,\n",
       "       -1.3434097 , -1.514175  , -0.4104577 , -0.81559646,  1.5328594 ,\n",
       "        0.6022654 , -0.6503848 ,  1.3766416 ,  0.58907133,  0.642459  ,\n",
       "       -2.5892985 ,  1.2739236 ,  0.2594038 ,  1.1616253 , -2.3401475 ,\n",
       "        0.4174353 ,  1.3836776 ,  0.34993327, -1.0529997 , -0.4343905 ,\n",
       "       -0.81271666, -1.6284207 ,  1.0133705 ,  0.08381286,  0.00721203,\n",
       "       -0.9452175 , -0.9464814 , -0.4130699 , -0.12425785,  1.6922207 ,\n",
       "        1.6050205 ,  1.7970904 , -1.1420217 , -0.12443861,  1.6286973 ,\n",
       "       -0.06046931, -0.34971848, -1.0739806 ,  0.42281768, -0.9037384 ,\n",
       "       -1.1929985 , -1.7308364 , -0.37216365,  0.67896855, -1.1618176 ,\n",
       "       -0.91653216, -0.52676886, -0.666158  , -1.0772057 , -2.5965629 ,\n",
       "       -0.9025985 ,  0.4941793 ,  1.6415961 , -0.6830793 , -0.72419876,\n",
       "        0.75772554,  1.4054348 , -0.11721457, -0.08217383,  2.1634905 ,\n",
       "       -0.99281037,  0.5869868 , -0.6991603 , -1.9680167 ,  0.39478788,\n",
       "       -1.0951428 ,  0.198099  , -0.567001  ,  0.9863    ,  0.28626978,\n",
       "       -0.16713381, -0.9438573 , -0.18677944,  0.54047173, -1.3826442 ,\n",
       "        0.7551716 ,  0.18052928,  2.8913763 , -1.4330747 ,  2.7300396 ,\n",
       "       -0.43729115,  2.0306659 , -1.0904642 , -1.2313962 , -0.0427071 ,\n",
       "       -0.316167  ,  1.4347336 ,  0.18379188, -1.1118959 , -0.1635929 ,\n",
       "       -0.44302645, -0.91233635, -0.14299078, -0.63351667,  0.25426534,\n",
       "        0.5688592 ,  1.4978808 ,  0.70424294, -1.0380903 , -0.2118189 ,\n",
       "        1.0096534 , -1.322946  , -1.5930809 ,  0.7988612 ,  1.1278721 ,\n",
       "        0.54297173,  1.1431333 ,  1.084847  , -0.212897  ,  1.3667346 ,\n",
       "       -0.6372936 , -0.96082073,  0.341661  , -0.23186387, -0.63860124,\n",
       "        0.27598578,  0.83917767, -0.07911763,  1.4627019 ,  0.74136776,\n",
       "       -0.87538   ,  0.3142082 ,  1.1081629 , -0.9246086 , -1.3136078 ,\n",
       "        1.0705998 , -1.0342982 ,  0.26008934, -0.18927129, -0.41738337,\n",
       "       -0.39230582, -0.7984915 , -0.18237513,  1.1354277 ,  0.95720553,\n",
       "        0.7315802 ,  0.26632074,  0.27910417, -1.1876632 , -0.35942203,\n",
       "        0.7991466 , -0.7687783 , -1.6015466 , -1.1244365 ,  0.9919711 ,\n",
       "       -0.7095116 ,  1.3235966 , -0.27363226,  0.28002506, -1.387894  ,\n",
       "        1.1493397 ,  0.03710289,  0.50820565, -0.8343497 ,  0.11964685,\n",
       "        1.2575926 , -0.58477783, -0.50928605, -0.64500666,  1.5664923 ,\n",
       "        1.0955638 ,  0.1997408 , -0.1776653 , -0.11831578, -0.09607627,\n",
       "       -0.58638215,  0.4625211 ,  0.37585592,  1.0612959 , -0.20807065,\n",
       "        1.6177784 , -0.565152  ,  1.6561352 ,  1.2599223 ,  0.15916689,\n",
       "        0.24818918,  0.29115012, -0.04650835,  0.07756709,  0.7027604 ,\n",
       "        1.9920323 ,  0.11800241,  0.11453556,  0.22265132,  0.6419354 ,\n",
       "       -0.31515726,  0.15081082,  2.2843232 ,  0.67174447,  0.60097986,\n",
       "        0.9586217 ,  1.9130101 , -0.18007223, -1.2800779 ,  1.078159  ,\n",
       "        0.1381839 , -0.8747278 ,  1.1898096 ,  0.7759727 , -0.11275762,\n",
       "        1.1330857 , -0.57516235, -0.7827348 ,  0.4792955 , -0.7622768 ,\n",
       "        0.0565797 ,  0.57324845,  0.5934683 ,  0.27674794,  0.7000946 ,\n",
       "        0.38897488,  0.43683594, -0.7315479 ,  0.85351896, -0.3781951 ,\n",
       "       -0.11404714,  0.49648798,  1.8455191 , -0.8574829 , -0.6614892 ,\n",
       "       -0.37922564, -1.125013  ,  1.111136  , -0.4646636 ,  1.3024298 ,\n",
       "        0.32827303, -0.0350454 ,  0.8287278 ,  1.2821307 , -0.02317376,\n",
       "       -0.07420722, -1.6768147 , -1.9871804 ,  0.42208707, -1.0196413 ,\n",
       "       -0.42004493,  0.11743685,  0.28606847,  0.07479338,  2.5403051 ,\n",
       "       -1.1017097 , -0.28571746,  0.31306565, -1.8990574 , -0.48870736,\n",
       "        0.19389008,  0.3197271 ,  0.3254298 ,  0.12045655,  0.8306055 ,\n",
       "        0.64678866,  0.6826682 ,  0.52983004, -0.38802508,  0.6059555 ,\n",
       "        2.9109104 ,  0.18280168,  1.4452126 , -0.7695898 , -1.5864835 ,\n",
       "       -1.4177452 ,  0.37232867, -0.78843546, -0.1938799 , -0.61610323,\n",
       "        0.79464775, -0.38157168,  1.0928162 ,  0.5346213 ,  1.5747075 ,\n",
       "        1.1154057 , -0.08365147, -0.27412245, -0.7404894 , -0.17686154,\n",
       "        1.586546  ,  0.14359768, -0.6168505 ,  2.091439  ,  0.17265974,\n",
       "        0.89786386,  0.5934599 , -0.22928588,  0.88093585, -0.19579783,\n",
       "       -0.23243363,  1.4190732 , -1.1100107 , -1.1955881 , -0.6768592 ,\n",
       "       -0.13877052,  1.2377406 , -0.65218276,  0.4078194 , -0.23117773,\n",
       "        0.17359455,  1.270762  , -0.801331  ,  0.00698735,  0.58508277,\n",
       "       -0.0397304 , -0.07785414, -0.78120935,  1.1292205 ,  0.2370243 ,\n",
       "       -1.1736516 ,  0.46401381,  0.14375964,  1.3346269 , -1.3875154 ,\n",
       "        0.25492898, -0.11720336,  1.4140265 ,  0.11433834,  1.7339451 ],\n",
       "      dtype=float32)>"
      ]
     },
     "execution_count": 106,
     "metadata": {},
     "output_type": "execute_result"
    }
   ],
   "source": [
    "TRUE_W = 3.0   # weights \n",
    "TRUE_B = 2.0   # bias \n",
    "## those are the exact answers for weights and bias \n",
    "\n",
    "NUM_EXAMPLES = 1000\n",
    "\n",
    "x = tf.random.normal(shape=[NUM_EXAMPLES])\n",
    "x"
   ]
  },
  {
   "cell_type": "code",
   "execution_count": 102,
   "id": "912ddbf3",
   "metadata": {},
   "outputs": [],
   "source": [
    "noise = tf.random.normal(shape=[NUM_EXAMPLES])"
   ]
  },
  {
   "cell_type": "code",
   "execution_count": 103,
   "id": "3e09fe1e",
   "metadata": {},
   "outputs": [],
   "source": [
    "y = x * TRUE_W + TRUE_B + noise"
   ]
  },
  {
   "cell_type": "code",
   "execution_count": null,
   "id": "859dd9ab",
   "metadata": {},
   "outputs": [],
   "source": []
  },
  {
   "cell_type": "code",
   "execution_count": 104,
   "id": "54efd354",
   "metadata": {},
   "outputs": [
    {
     "data": {
      "image/png": "[encoded data removed]",
      "text/plain": [
       "<Figure size 640x480 with 1 Axes>"
      ]
     },
     "metadata": {},
     "output_type": "display_data"
    }
   ],
   "source": [
    "import matplotlib.pyplot as plt\n",
    "\n",
    "plt.scatter(x, y, c=\"b\")\n",
    "plt.show()"
   ]
  },
  {
   "cell_type": "code",
   "execution_count": null,
   "id": "ad42fb0a",
   "metadata": {},
   "outputs": [],
   "source": []
  },
  {
   "cell_type": "code",
   "execution_count": 105,
   "id": "d90948c7",
   "metadata": {},
   "outputs": [],
   "source": [
    "class MyModel(tf.Module):\n",
    "  def __init__(self, **kwargs):\n",
    "    super().__init__(**kwargs)\n",
    "\n",
    "    # initial weights\n",
    "    self.w = tf.Variable(5.0)\n",
    "    self.b = tf.Variable(0.0)\n",
    "\n",
    "  def __call__(self, x):\n",
    "    return self.w*x + self.b"
   ]
  },
  {
   "cell_type": "markdown",
   "id": "2cdde714",
   "metadata": {},
   "source": [
    "### How that call method works "
   ]
  },
  {
   "cell_type": "code",
   "execution_count": 112,
   "id": "21913e25",
   "metadata": {},
   "outputs": [],
   "source": [
    "class Test:\n",
    "  def __init__(self, x):\n",
    "    self.x = x\n",
    "\n",
    "  def __call__(self):\n",
    "    return self.x ** 3"
   ]
  },
  {
   "cell_type": "code",
   "execution_count": 113,
   "id": "c662e997",
   "metadata": {},
   "outputs": [
    {
     "data": {
      "text/plain": [
       "<__main__.Test at 0x27d346678d0>"
      ]
     },
     "execution_count": 113,
     "metadata": {},
     "output_type": "execute_result"
    }
   ],
   "source": [
    "obj = Test(2)\n",
    "obj"
   ]
  },
  {
   "cell_type": "code",
   "execution_count": 114,
   "id": "127cdb24",
   "metadata": {},
   "outputs": [
    {
     "data": {
      "text/plain": [
       "8"
      ]
     },
     "execution_count": 114,
     "metadata": {},
     "output_type": "execute_result"
    }
   ],
   "source": [
    "obj()"
   ]
  },
  {
   "cell_type": "code",
   "execution_count": 115,
   "id": "265e9ba7",
   "metadata": {},
   "outputs": [],
   "source": [
    "model = MyModel()"
   ]
  },
  {
   "cell_type": "code",
   "execution_count": 116,
   "id": "72292ee1",
   "metadata": {},
   "outputs": [
    {
     "data": {
      "text/plain": [
       "<tf.Tensor: shape=(), dtype=float32, numpy=15.0>"
      ]
     },
     "execution_count": 116,
     "metadata": {},
     "output_type": "execute_result"
    }
   ],
   "source": [
    "model(3)"
   ]
  },
  {
   "cell_type": "code",
   "execution_count": 117,
   "id": "7b496b8d",
   "metadata": {},
   "outputs": [
    {
     "data": {
      "text/plain": [
       "<tf.Variable 'Variable:0' shape=() dtype=float32, numpy=5.0>"
      ]
     },
     "execution_count": 117,
     "metadata": {},
     "output_type": "execute_result"
    }
   ],
   "source": [
    "model.w"
   ]
  },
  {
   "cell_type": "code",
   "execution_count": 118,
   "id": "81a67809",
   "metadata": {},
   "outputs": [
    {
     "data": {
      "text/plain": [
       "<tf.Variable 'Variable:0' shape=() dtype=float32, numpy=0.0>"
      ]
     },
     "execution_count": 118,
     "metadata": {},
     "output_type": "execute_result"
    }
   ],
   "source": [
    "model.b"
   ]
  },
  {
   "cell_type": "code",
   "execution_count": null,
   "id": "874bbcad",
   "metadata": {},
   "outputs": [],
   "source": [
    "model.variables"
   ]
  },
  {
   "cell_type": "code",
   "execution_count": null,
   "id": "65577578",
   "metadata": {},
   "outputs": [],
   "source": []
  },
  {
   "cell_type": "markdown",
   "id": "22eb6272",
   "metadata": {},
   "source": [
    "# Define loss function "
   ]
  },
  {
   "cell_type": "code",
   "execution_count": 119,
   "id": "bc345aa4",
   "metadata": {},
   "outputs": [],
   "source": [
    "def MSE_loss(target_y, predicted_y):\n",
    "  error = target_y - predicted_y\n",
    "  squared_error = tf.square(error)\n",
    "  mse = tf.reduce_mean(squared_error)\n",
    "  return mse"
   ]
  },
  {
   "cell_type": "code",
   "execution_count": 120,
   "id": "2cf055a7",
   "metadata": {},
   "outputs": [
    {
     "data": {
      "image/png": "[encoded data removed]",
      "text/plain": [
       "<Figure size 640x480 with 1 Axes>"
      ]
     },
     "metadata": {},
     "output_type": "display_data"
    }
   ],
   "source": [
    "plt.scatter(x, y, c=\"b\")\n",
    "\n",
    "pred_y = model(x) ## without training\n",
    "plt.scatter(x, pred_y, c=\"r\") \n",
    "\n",
    "plt.show()"
   ]
  },
  {
   "cell_type": "code",
   "execution_count": null,
   "id": "32f2774f",
   "metadata": {},
   "outputs": [],
   "source": []
  },
  {
   "cell_type": "code",
   "execution_count": 121,
   "id": "b9fc152b",
   "metadata": {},
   "outputs": [
    {
     "data": {
      "text/plain": [
       "39.54092"
      ]
     },
     "execution_count": 121,
     "metadata": {},
     "output_type": "execute_result"
    }
   ],
   "source": [
    "current_loss  = MSE_loss(y, model(x))\n",
    "current_loss.numpy()"
   ]
  },
  {
   "cell_type": "code",
   "execution_count": 122,
   "id": "0e960be5",
   "metadata": {},
   "outputs": [],
   "source": [
    "def train(model, x, y, learning_rate):\n",
    "\n",
    "  with tf.GradientTape() as tape:\n",
    "    current_loss = MSE_loss(y, model(x))\n",
    "\n",
    "  dc_dw, dc_db = tape.gradient(current_loss, [model.w, model.b])\n",
    "\n",
    "  model.w.assign_sub(learning_rate * dc_dw)\n",
    "  #assign_sub is a TensorFlow operation used to update the value of a variable by \n",
    "  # subtracting another tensor from it. It is typically used in scenarios where you want\n",
    "  # to perform in-place subtraction to update the value of a variable.\n",
    "  model.b.assign_sub(learning_rate * dc_db)"
   ]
  },
  {
   "cell_type": "code",
   "execution_count": 123,
   "id": "27991423",
   "metadata": {},
   "outputs": [
    {
     "name": "stdout",
     "output_type": "stream",
     "text": [
      "Initial W: 5.0, initial bias: 0.0, initial_loss: 39.54092025756836\n"
     ]
    }
   ],
   "source": [
    "model = MyModel()\n",
    "\n",
    "Ws, bs = [], []\n",
    "\n",
    "epochs = 10*2\n",
    "\n",
    "learning_rate = 0.1\n",
    "\n",
    "w = model.w.numpy()\n",
    "b = model.b.numpy()\n",
    "\n",
    "init_loss = MSE_loss(y, model(x)).numpy()\n",
    "\n",
    "print(f\"Initial W: {w}, initial bias: {b}, initial_loss: {init_loss}\")"
   ]
  },
  {
   "cell_type": "code",
   "execution_count": 124,
   "id": "d5e07d71",
   "metadata": {},
   "outputs": [
    {
     "name": "stdout",
     "output_type": "stream",
     "text": [
      "For epoch: 0, W: 4.00083589553833, b: 0.4002297520637512, current_loss: 29.118513107299805\n",
      "For epoch: 1, W: 3.20347261428833, b: 0.723224401473999, current_loss: 22.4600887298584\n",
      "For epoch: 2, W: 2.5671422481536865, b: 0.983863353729248, current_loss: 18.206050872802734\n",
      "For epoch: 3, W: 2.0593149662017822, b: 1.1941646337509155, current_loss: 15.488001823425293\n",
      "For epoch: 4, W: 1.654033899307251, b: 1.363834261894226, current_loss: 13.751246452331543\n",
      "For epoch: 5, W: 1.3305866718292236, b: 1.500710129737854, current_loss: 12.641441345214844\n",
      "For epoch: 6, W: 1.072445273399353, b: 1.6111208200454712, current_loss: 11.93222427368164\n",
      "For epoch: 7, W: 0.8664208650588989, b: 1.7001755237579346, current_loss: 11.478973388671875\n",
      "For epoch: 8, W: 0.701988697052002, b: 1.7719988822937012, current_loss: 11.189291000366211\n",
      "For epoch: 9, W: 0.5707500576972961, b: 1.8299201726913452, current_loss: 11.004138946533203\n",
      "For epoch: 10, W: 0.46600258350372314, b: 1.8766264915466309, current_loss: 10.885787963867188\n",
      "For epoch: 11, W: 0.38239753246307373, b: 1.9142861366271973, current_loss: 10.810135841369629\n",
      "For epoch: 12, W: 0.31566640734672546, b: 1.94464910030365, current_loss: 10.761773109436035\n",
      "For epoch: 13, W: 0.2624027132987976, b: 1.9691271781921387, current_loss: 10.730854034423828\n",
      "For epoch: 14, W: 0.21988782286643982, b: 1.9888595342636108, current_loss: 10.711087226867676\n",
      "For epoch: 15, W: 0.18595203757286072, b: 2.004765033721924, current_loss: 10.698447227478027\n",
      "For epoch: 16, W: 0.15886373817920685, b: 2.017584800720215, current_loss: 10.690366744995117\n",
      "For epoch: 17, W: 0.1372409164905548, b: 2.02791690826416, current_loss: 10.685198783874512\n",
      "For epoch: 18, W: 0.11998052895069122, b: 2.036243438720703, current_loss: 10.681894302368164\n",
      "For epoch: 19, W: 0.10620224475860596, b: 2.0429532527923584, current_loss: 10.679780006408691\n"
     ]
    }
   ],
   "source": [
    "for epoch in range(epochs):\n",
    "  train(model, x, y, learning_rate)\n",
    "\n",
    "  Ws.append(model.w.numpy())\n",
    "  bs.append(model.b.numpy())\n",
    "\n",
    "  current_loss = MSE_loss(y, model(x))\n",
    "\n",
    "  print(f\"For epoch: {epoch}, W: {Ws[-1]}, b: {bs[-1]}, current_loss: {current_loss}\")"
   ]
  },
  {
   "cell_type": "code",
   "execution_count": 125,
   "id": "f268d53f",
   "metadata": {},
   "outputs": [
    {
     "data": {
      "image/png": "[encoded data removed]",
      "text/plain": [
       "<Figure size 640x480 with 1 Axes>"
      ]
     },
     "metadata": {},
     "output_type": "display_data"
    }
   ],
   "source": [
    "plt.plot(range(epochs), Ws, 'r', range(epochs), bs, \"b\")\n",
    "\n",
    "plt.plot([TRUE_W] * epochs, \"r--\", [TRUE_B] * epochs, \"b--\")\n",
    "\n",
    "plt.legend([\"W\", \"b\", \"True W\", \"True B\"])\n",
    "\n",
    "plt.show()"
   ]
  },
  {
   "cell_type": "code",
   "execution_count": 126,
   "id": "9f6fd3c4",
   "metadata": {},
   "outputs": [
    {
     "data": {
      "image/png": "[encoded data removed]",
      "text/plain": [
       "<Figure size 640x480 with 1 Axes>"
      ]
     },
     "metadata": {},
     "output_type": "display_data"
    }
   ],
   "source": [
    "plt.scatter(x, y, c=\"b\")\n",
    "\n",
    "pred_y = model(x) ## after training\n",
    "plt.scatter(x, pred_y, c=\"r\") \n",
    "\n",
    "plt.show()"
   ]
  },
  {
   "cell_type": "code",
   "execution_count": null,
   "id": "6f57c62d",
   "metadata": {},
   "outputs": [],
   "source": []
  },
  {
   "cell_type": "code",
   "execution_count": null,
   "id": "d33af0c0",
   "metadata": {},
   "outputs": [],
   "source": []
  },
  {
   "cell_type": "code",
   "execution_count": null,
   "id": "c735857a",
   "metadata": {},
   "outputs": [],
   "source": []
  },
  {
   "cell_type": "code",
   "execution_count": null,
   "id": "9ecd8af1",
   "metadata": {},
   "outputs": [],
   "source": []
  },
  {
   "cell_type": "code",
   "execution_count": null,
   "id": "25a3a28a",
   "metadata": {},
   "outputs": [],
   "source": []
  },
  {
   "cell_type": "code",
   "execution_count": null,
   "id": "910fd2f3",
   "metadata": {},
   "outputs": [],
   "source": []
  },
  {
   "cell_type": "code",
   "execution_count": null,
   "id": "24b3eba2",
   "metadata": {},
   "outputs": [],
   "source": []
  },
  {
   "cell_type": "code",
   "execution_count": null,
   "id": "143ae055",
   "metadata": {},
   "outputs": [],
   "source": []
  }
 ],
 "metadata": {
  "kernelspec": {
   "display_name": "Python 3",
   "language": "python",
   "name": "python3"
  },
  "language_info": {
   "codemirror_mode": {
    "name": "ipython",
    "version": 3
   },
   "file_extension": ".py",
   "mimetype": "text/x-python",
   "name": "python",
   "nbconvert_exporter": "python",
   "pygments_lexer": "ipython3",
   "version": "3.11.5"
  }
 },
 "nbformat": 4,
 "nbformat_minor": 5
}
