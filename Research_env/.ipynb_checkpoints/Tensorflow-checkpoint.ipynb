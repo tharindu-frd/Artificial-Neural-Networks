{
 "cells": [
  {
   "cell_type": "markdown",
   "id": "c28903f1",
   "metadata": {},
   "source": [
    "# Tensorflow"
   ]
  },
  {
   "cell_type": "code",
   "execution_count": 1,
   "id": "151be5f9",
   "metadata": {},
   "outputs": [
    {
     "name": "stdout",
     "output_type": "stream",
     "text": [
      "WARNING:tensorflow:From C:\\Users\\Tharindu\\anaconda3\\Lib\\site-packages\\keras\\src\\losses.py:2976: The name tf.losses.sparse_softmax_cross_entropy is deprecated. Please use tf.compat.v1.losses.sparse_softmax_cross_entropy instead.\n",
      "\n"
     ]
    }
   ],
   "source": [
    "import tensorflow as tf"
   ]
  },
  {
   "cell_type": "code",
   "execution_count": 2,
   "id": "54aafe47",
   "metadata": {},
   "outputs": [],
   "source": [
    "# tensor : multi dimensional array\n",
    "# \n",
    "const = tf.constant(43)"
   ]
  },
  {
   "cell_type": "code",
   "execution_count": 3,
   "id": "538baa83",
   "metadata": {},
   "outputs": [],
   "source": [
    "const_mat = tf.constant([[1,3],[4,5]],dtype=tf.float32)"
   ]
  },
  {
   "cell_type": "code",
   "execution_count": 6,
   "id": "88a01d97",
   "metadata": {},
   "outputs": [
    {
     "data": {
      "text/plain": [
       "[]"
      ]
     },
     "execution_count": 6,
     "metadata": {},
     "output_type": "execute_result"
    }
   ],
   "source": [
    "tf.config.list_physical_devices('GPU')"
   ]
  },
  {
   "cell_type": "code",
   "execution_count": 5,
   "id": "59dfdf21",
   "metadata": {},
   "outputs": [
    {
     "data": {
      "text/plain": [
       "<tf.Tensor: shape=(2, 2), dtype=float32, numpy=\n",
       "array([[1., 3.],\n",
       "       [4., 5.]], dtype=float32)>"
      ]
     },
     "execution_count": 5,
     "metadata": {},
     "output_type": "execute_result"
    }
   ],
   "source": [
    "const_mat"
   ]
  },
  {
   "cell_type": "code",
   "execution_count": 7,
   "id": "72cb9852",
   "metadata": {},
   "outputs": [
    {
     "data": {
      "text/plain": [
       "TensorShape([2, 2])"
      ]
     },
     "execution_count": 7,
     "metadata": {},
     "output_type": "execute_result"
    }
   ],
   "source": [
    "const_mat.shape"
   ]
  },
  {
   "cell_type": "code",
   "execution_count": 8,
   "id": "968ba24c",
   "metadata": {},
   "outputs": [
    {
     "data": {
      "text/plain": [
       "<tf.Tensor: shape=(), dtype=float32, numpy=1.0>"
      ]
     },
     "execution_count": 8,
     "metadata": {},
     "output_type": "execute_result"
    }
   ],
   "source": [
    "const_mat[0][0]"
   ]
  },
  {
   "cell_type": "code",
   "execution_count": 10,
   "id": "f5a4e2d3",
   "metadata": {},
   "outputs": [
    {
     "ename": "TypeError",
     "evalue": "'tensorflow.python.framework.ops.EagerTensor' object does not support item assignment",
     "output_type": "error",
     "traceback": [
      "\u001b[1;31m---------------------------------------------------------------------------\u001b[0m",
      "\u001b[1;31mTypeError\u001b[0m                                 Traceback (most recent call last)",
      "Cell \u001b[1;32mIn[10], line 1\u001b[0m\n\u001b[1;32m----> 1\u001b[0m const_mat[\u001b[38;5;241m0\u001b[39m][\u001b[38;5;241m0\u001b[39m] \u001b[38;5;241m=\u001b[39m \u001b[38;5;241m32\u001b[39m\n",
      "\u001b[1;31mTypeError\u001b[0m: 'tensorflow.python.framework.ops.EagerTensor' object does not support item assignment"
     ]
    }
   ],
   "source": [
    "const_mat[0][0] = 32  ## We cant change the values "
   ]
  },
  {
   "cell_type": "code",
   "execution_count": 12,
   "id": "c045be2a",
   "metadata": {},
   "outputs": [
    {
     "data": {
      "text/plain": [
       "<tf.Tensor: shape=(2, 3), dtype=float32, numpy=\n",
       "array([[1., 1., 1.],\n",
       "       [1., 1., 1.]], dtype=float32)>"
      ]
     },
     "execution_count": 12,
     "metadata": {},
     "output_type": "execute_result"
    }
   ],
   "source": [
    "tf.ones(shape=(2,3))  # to define biases "
   ]
  },
  {
   "cell_type": "code",
   "execution_count": 13,
   "id": "084a438a",
   "metadata": {},
   "outputs": [
    {
     "data": {
      "text/plain": [
       "<tf.Tensor: shape=(2, 3), dtype=float32, numpy=\n",
       "array([[-1., -1., -1.],\n",
       "       [-1., -1., -1.]], dtype=float32)>"
      ]
     },
     "execution_count": 13,
     "metadata": {},
     "output_type": "execute_result"
    }
   ],
   "source": [
    "-1*tf.ones(shape=(2,3))"
   ]
  },
  {
   "cell_type": "code",
   "execution_count": 14,
   "id": "405da8d0",
   "metadata": {},
   "outputs": [
    {
     "data": {
      "text/plain": [
       "<tf.Tensor: shape=(2, 4), dtype=float32, numpy=\n",
       "array([[0., 0., 0., 0.],\n",
       "       [0., 0., 0., 0.]], dtype=float32)>"
      ]
     },
     "execution_count": 14,
     "metadata": {},
     "output_type": "execute_result"
    }
   ],
   "source": [
    "tf.zeros(shape=(2,4))  # We can use this as a place holder as well "
   ]
  },
  {
   "cell_type": "code",
   "execution_count": null,
   "id": "b8d1e1b6",
   "metadata": {},
   "outputs": [],
   "source": []
  },
  {
   "cell_type": "markdown",
   "id": "7d6ba5ca",
   "metadata": {},
   "source": [
    "# Operations"
   ]
  },
  {
   "cell_type": "code",
   "execution_count": 15,
   "id": "9581af65",
   "metadata": {},
   "outputs": [
    {
     "data": {
      "text/plain": [
       "<tf.Tensor: shape=(2, 3), dtype=int32, numpy=\n",
       "array([[ 4,  6,  8],\n",
       "       [ 9,  8, 12]])>"
      ]
     },
     "execution_count": 15,
     "metadata": {},
     "output_type": "execute_result"
    }
   ],
   "source": [
    "const1 = tf.constant([[1,2,3],[4,5,6]])\n",
    "const2 = tf.constant([[3,4,5],[5,3,6]])\n",
    "\n",
    "tf.add(const1,const2)"
   ]
  },
  {
   "cell_type": "code",
   "execution_count": 16,
   "id": "28359547",
   "metadata": {},
   "outputs": [
    {
     "data": {
      "text/plain": [
       "<tf.Tensor: shape=(2, 2), dtype=float32, numpy=\n",
       "array([[ 0.95940316,  0.5688563 ],\n",
       "       [-1.0859382 ,  1.9221587 ]], dtype=float32)>"
      ]
     },
     "execution_count": 16,
     "metadata": {},
     "output_type": "execute_result"
    }
   ],
   "source": [
    "###### Define random constant values\n",
    "tf.random.normal(shape=(2,2),mean=0 , stddev = 1.0)"
   ]
  },
  {
   "cell_type": "code",
   "execution_count": 17,
   "id": "b7603c77",
   "metadata": {},
   "outputs": [
    {
     "data": {
      "text/plain": [
       "<tf.Tensor: shape=(2, 2), dtype=float32, numpy=\n",
       "array([[13.161289 ,  3.449943 ],\n",
       "       [ 7.6917434,  3.0104733]], dtype=float32)>"
      ]
     },
     "execution_count": 17,
     "metadata": {},
     "output_type": "execute_result"
    }
   ],
   "source": [
    "tf.random.uniform(shape=(2,2),minval=0 , maxval = 20)"
   ]
  },
  {
   "cell_type": "markdown",
   "id": "265fb7ca",
   "metadata": {},
   "source": [
    "# Variables"
   ]
  },
  {
   "cell_type": "code",
   "execution_count": 19,
   "id": "0a6f1082",
   "metadata": {},
   "outputs": [],
   "source": [
    "var1 = tf.Variable([[1,2,3],[4,5,6]])"
   ]
  },
  {
   "cell_type": "code",
   "execution_count": 20,
   "id": "19138443",
   "metadata": {},
   "outputs": [
    {
     "data": {
      "text/plain": [
       "<tf.Variable 'Variable:0' shape=(2, 3) dtype=int32, numpy=\n",
       "array([[1, 2, 3],\n",
       "       [4, 5, 6]])>"
      ]
     },
     "execution_count": 20,
     "metadata": {},
     "output_type": "execute_result"
    }
   ],
   "source": [
    "var1"
   ]
  },
  {
   "cell_type": "code",
   "execution_count": 22,
   "id": "9d004d18",
   "metadata": {},
   "outputs": [
    {
     "data": {
      "text/plain": [
       "<tf.Variable 'Variable:0' shape=() dtype=int32, numpy=22>"
      ]
     },
     "execution_count": 22,
     "metadata": {},
     "output_type": "execute_result"
    }
   ],
   "source": [
    "var2 = tf.Variable(43)\n",
    "var2.assign(22)\n",
    "var2  # We can change the values of Variable"
   ]
  },
  {
   "cell_type": "code",
   "execution_count": 24,
   "id": "39af678a",
   "metadata": {},
   "outputs": [
    {
     "data": {
      "text/plain": [
       "<tf.Variable 'Variable:0' shape=(2, 3) dtype=int32, numpy=\n",
       "array([[21,  2,  3],\n",
       "       [ 4, 21,  6]])>"
      ]
     },
     "execution_count": 24,
     "metadata": {},
     "output_type": "execute_result"
    }
   ],
   "source": [
    "var1[0,0].assign(21)\n",
    "var1"
   ]
  },
  {
   "cell_type": "code",
   "execution_count": null,
   "id": "0bf6db3e",
   "metadata": {},
   "outputs": [],
   "source": []
  },
  {
   "cell_type": "code",
   "execution_count": null,
   "id": "f32a9098",
   "metadata": {},
   "outputs": [],
   "source": []
  },
  {
   "cell_type": "markdown",
   "id": "e4aad4af",
   "metadata": {},
   "source": [
    "# Reshaping"
   ]
  },
  {
   "cell_type": "code",
   "execution_count": 25,
   "id": "377f27ca",
   "metadata": {},
   "outputs": [
    {
     "data": {
      "text/plain": [
       "TensorShape([2, 3])"
      ]
     },
     "execution_count": 25,
     "metadata": {},
     "output_type": "execute_result"
    }
   ],
   "source": [
    "tensor = tf.Variable([[22,2,3],[4,5,6]])\n",
    "tensor.shape"
   ]
  },
  {
   "cell_type": "code",
   "execution_count": 26,
   "id": "63c1f9fb",
   "metadata": {},
   "outputs": [
    {
     "data": {
      "text/plain": [
       "<tf.Tensor: shape=(3, 2), dtype=int32, numpy=\n",
       "array([[22,  2],\n",
       "       [ 3,  4],\n",
       "       [ 5,  6]])>"
      ]
     },
     "execution_count": 26,
     "metadata": {},
     "output_type": "execute_result"
    }
   ],
   "source": [
    "tf.reshape(tensor,[3,2])  # Transpose "
   ]
  },
  {
   "cell_type": "code",
   "execution_count": 28,
   "id": "a96fc5bb",
   "metadata": {},
   "outputs": [
    {
     "data": {
      "text/plain": [
       "<tf.Tensor: shape=(1, 6), dtype=int32, numpy=array([[22,  2,  3,  4,  5,  6]])>"
      ]
     },
     "execution_count": 28,
     "metadata": {},
     "output_type": "execute_result"
    }
   ],
   "source": [
    "tf.reshape(tensor,[1,6])"
   ]
  },
  {
   "cell_type": "code",
   "execution_count": 27,
   "id": "62e98648",
   "metadata": {},
   "outputs": [
    {
     "data": {
      "text/plain": [
       "<tf.Tensor: shape=(6, 1), dtype=int32, numpy=\n",
       "array([[22],\n",
       "       [ 2],\n",
       "       [ 3],\n",
       "       [ 4],\n",
       "       [ 5],\n",
       "       [ 6]])>"
      ]
     },
     "execution_count": 27,
     "metadata": {},
     "output_type": "execute_result"
    }
   ],
   "source": [
    "tf.reshape(tensor,[6,1])"
   ]
  },
  {
   "cell_type": "code",
   "execution_count": 30,
   "id": "dcab4a6d",
   "metadata": {},
   "outputs": [
    {
     "data": {
      "text/plain": [
       "<tf.Tensor: shape=(2, 3), dtype=int32, numpy=\n",
       "array([[441,   4,   9],\n",
       "       [ 16, 441,  36]])>"
      ]
     },
     "execution_count": 30,
     "metadata": {},
     "output_type": "execute_result"
    }
   ],
   "source": [
    "tf.square(var1)"
   ]
  },
  {
   "cell_type": "code",
   "execution_count": null,
   "id": "1bd5efd3",
   "metadata": {},
   "outputs": [],
   "source": []
  },
  {
   "cell_type": "code",
   "execution_count": null,
   "id": "42c69734",
   "metadata": {},
   "outputs": [],
   "source": []
  },
  {
   "cell_type": "markdown",
   "id": "e49e1ffd",
   "metadata": {},
   "source": [
    "# Rank of tensors"
   ]
  },
  {
   "cell_type": "code",
   "execution_count": 34,
   "id": "20b420ca",
   "metadata": {},
   "outputs": [
    {
     "data": {
      "text/plain": [
       "<tf.Tensor: shape=(), dtype=int32, numpy=2>"
      ]
     },
     "execution_count": 34,
     "metadata": {},
     "output_type": "execute_result"
    }
   ],
   "source": [
    "tensor = tf.Variable([[22,2,3],[4,5,6]])\n",
    "tf.rank(tensor)  # no of dimensions"
   ]
  },
  {
   "cell_type": "code",
   "execution_count": 37,
   "id": "20b2d7fc",
   "metadata": {},
   "outputs": [
    {
     "data": {
      "text/plain": [
       "<tf.Tensor: shape=(), dtype=int32, numpy=15>"
      ]
     },
     "execution_count": 37,
     "metadata": {},
     "output_type": "execute_result"
    }
   ],
   "source": [
    "tensor = tf.Variable([[[10, 11, 12], [13, 15, 18]],[[10, 11, 12], [13, 15, 18]]])\n",
    "tensor[0, 1, 1]"
   ]
  },
  {
   "cell_type": "code",
   "execution_count": 38,
   "id": "89eb9852",
   "metadata": {},
   "outputs": [
    {
     "data": {
      "text/plain": [
       "<tf.Variable 'Variable:0' shape=(2, 2, 3) dtype=int32, numpy=\n",
       "array([[[10, 11, 12],\n",
       "        [13, 15, 18]],\n",
       "\n",
       "       [[10, 11, 12],\n",
       "        [13, 15, 18]]])>"
      ]
     },
     "execution_count": 38,
     "metadata": {},
     "output_type": "execute_result"
    }
   ],
   "source": [
    "tensor"
   ]
  },
  {
   "cell_type": "code",
   "execution_count": 39,
   "id": "105c46e6",
   "metadata": {},
   "outputs": [
    {
     "data": {
      "text/plain": [
       "<tf.Tensor: shape=(2, 2), dtype=int32, numpy=\n",
       "array([[11, 12],\n",
       "       [15, 18]])>"
      ]
     },
     "execution_count": 39,
     "metadata": {},
     "output_type": "execute_result"
    }
   ],
   "source": [
    "tensor[0,:,1:]"
   ]
  },
  {
   "cell_type": "code",
   "execution_count": null,
   "id": "e06c4d70",
   "metadata": {},
   "outputs": [],
   "source": []
  },
  {
   "cell_type": "markdown",
   "id": "c1288094",
   "metadata": {},
   "source": [
    "# More Operations"
   ]
  },
  {
   "cell_type": "code",
   "execution_count": 40,
   "id": "ec863193",
   "metadata": {},
   "outputs": [],
   "source": [
    "a = tf.random.normal((2,2))\n",
    "b = tf.random.normal((2,2))\n",
    "\n",
    "c = a + b"
   ]
  },
  {
   "cell_type": "code",
   "execution_count": 41,
   "id": "98d72886",
   "metadata": {},
   "outputs": [
    {
     "data": {
      "text/plain": [
       "<tf.Tensor: shape=(2, 2), dtype=float32, numpy=\n",
       "array([[0.00961983, 0.47390854],\n",
       "       [7.225885  , 8.835837  ]], dtype=float32)>"
      ]
     },
     "execution_count": 41,
     "metadata": {},
     "output_type": "execute_result"
    }
   ],
   "source": [
    "tf.square(c)"
   ]
  },
  {
   "cell_type": "code",
   "execution_count": 42,
   "id": "26a175a7",
   "metadata": {},
   "outputs": [
    {
     "data": {
      "text/plain": [
       "<tf.Tensor: shape=(2, 2), dtype=float32, numpy=\n",
       "array([[1.1030518 , 1.9905484 ],\n",
       "       [0.06800999, 0.05117451]], dtype=float32)>"
      ]
     },
     "execution_count": 42,
     "metadata": {},
     "output_type": "execute_result"
    }
   ],
   "source": [
    "tf.exp(c)"
   ]
  },
  {
   "cell_type": "code",
   "execution_count": 43,
   "id": "4c627c7b",
   "metadata": {},
   "outputs": [
    {
     "data": {
      "text/plain": [
       "<tf.Variable 'Variable:0' shape=(2, 2, 3) dtype=int32, numpy=\n",
       "array([[[10, 11, 12],\n",
       "        [13, 15, 18]],\n",
       "\n",
       "       [[10, 11, 12],\n",
       "        [13, 15, 18]]])>"
      ]
     },
     "execution_count": 43,
     "metadata": {},
     "output_type": "execute_result"
    }
   ],
   "source": [
    "# Element wise multiplication - \n",
    "tensor"
   ]
  },
  {
   "cell_type": "code",
   "execution_count": 44,
   "id": "890e8fb3",
   "metadata": {},
   "outputs": [
    {
     "data": {
      "text/plain": [
       "<tf.Tensor: shape=(2, 2, 3), dtype=int32, numpy=\n",
       "array([[[100, 121, 144],\n",
       "        [169, 225, 324]],\n",
       "\n",
       "       [[100, 121, 144],\n",
       "        [169, 225, 324]]])>"
      ]
     },
     "execution_count": 44,
     "metadata": {},
     "output_type": "execute_result"
    }
   ],
   "source": [
    "tensor * tensor"
   ]
  },
  {
   "cell_type": "code",
   "execution_count": null,
   "id": "40ae49d8",
   "metadata": {},
   "outputs": [],
   "source": []
  },
  {
   "cell_type": "markdown",
   "id": "c9b19e2f",
   "metadata": {},
   "source": [
    "# Broadcasting"
   ]
  },
  {
   "cell_type": "code",
   "execution_count": 45,
   "id": "7d4c2dff",
   "metadata": {},
   "outputs": [
    {
     "data": {
      "text/plain": [
       "<tf.Tensor: shape=(2, 2, 3), dtype=int32, numpy=\n",
       "array([[[40, 44, 48],\n",
       "        [52, 60, 72]],\n",
       "\n",
       "       [[40, 44, 48],\n",
       "        [52, 60, 72]]])>"
      ]
     },
     "execution_count": 45,
     "metadata": {},
     "output_type": "execute_result"
    }
   ],
   "source": [
    "scaler = 4\n",
    "scaler * tensor"
   ]
  },
  {
   "cell_type": "code",
   "execution_count": 46,
   "id": "f3a991d6",
   "metadata": {},
   "outputs": [
    {
     "data": {
      "text/plain": [
       "<tf.Tensor: shape=(2, 2, 3), dtype=int32, numpy=\n",
       "array([[[14, 15, 16],\n",
       "        [17, 19, 22]],\n",
       "\n",
       "       [[14, 15, 16],\n",
       "        [17, 19, 22]]])>"
      ]
     },
     "execution_count": 46,
     "metadata": {},
     "output_type": "execute_result"
    }
   ],
   "source": [
    "scaler + tensor"
   ]
  },
  {
   "cell_type": "code",
   "execution_count": 47,
   "id": "58968cca",
   "metadata": {},
   "outputs": [
    {
     "data": {
      "text/plain": [
       "<tf.Tensor: shape=(2, 2, 3), dtype=int32, numpy=\n",
       "array([[[ -6,  -7,  -8],\n",
       "        [ -9, -11, -14]],\n",
       "\n",
       "       [[ -6,  -7,  -8],\n",
       "        [ -9, -11, -14]]])>"
      ]
     },
     "execution_count": 47,
     "metadata": {},
     "output_type": "execute_result"
    }
   ],
   "source": [
    "scaler - tensor"
   ]
  },
  {
   "cell_type": "code",
   "execution_count": null,
   "id": "0572d6ce",
   "metadata": {},
   "outputs": [],
   "source": []
  },
  {
   "cell_type": "markdown",
   "id": "e36005d8",
   "metadata": {},
   "source": [
    "# Matrix multiplication "
   ]
  },
  {
   "cell_type": "code",
   "execution_count": 48,
   "id": "0c60fd75",
   "metadata": {},
   "outputs": [],
   "source": [
    "mat_u = tf.constant([[6,7,7]])\n",
    "mat_v = tf.constant([[3,4,3]])"
   ]
  },
  {
   "cell_type": "code",
   "execution_count": 49,
   "id": "75e2ee64",
   "metadata": {},
   "outputs": [
    {
     "data": {
      "text/plain": [
       "TensorShape([1, 3])"
      ]
     },
     "execution_count": 49,
     "metadata": {},
     "output_type": "execute_result"
    }
   ],
   "source": [
    "mat_u.shape"
   ]
  },
  {
   "cell_type": "code",
   "execution_count": 50,
   "id": "c0e2e052",
   "metadata": {},
   "outputs": [
    {
     "data": {
      "text/plain": [
       "TensorShape([3, 1])"
      ]
     },
     "execution_count": 50,
     "metadata": {},
     "output_type": "execute_result"
    }
   ],
   "source": [
    "tf.transpose(mat_v).shape"
   ]
  },
  {
   "cell_type": "code",
   "execution_count": 51,
   "id": "9055e01c",
   "metadata": {},
   "outputs": [
    {
     "data": {
      "text/plain": [
       "array([[6, 7, 7]])"
      ]
     },
     "execution_count": 51,
     "metadata": {},
     "output_type": "execute_result"
    }
   ],
   "source": [
    "mat_u.numpy()"
   ]
  },
  {
   "cell_type": "code",
   "execution_count": 52,
   "id": "f504b73f",
   "metadata": {},
   "outputs": [
    {
     "data": {
      "text/plain": [
       "array([[3],\n",
       "       [4],\n",
       "       [3]])"
      ]
     },
     "execution_count": 52,
     "metadata": {},
     "output_type": "execute_result"
    }
   ],
   "source": [
    "tf.transpose(mat_v).numpy()"
   ]
  },
  {
   "cell_type": "code",
   "execution_count": 53,
   "id": "c139175b",
   "metadata": {},
   "outputs": [
    {
     "data": {
      "text/plain": [
       "<tf.Tensor: shape=(1, 1), dtype=int32, numpy=array([[67]])>"
      ]
     },
     "execution_count": 53,
     "metadata": {},
     "output_type": "execute_result"
    }
   ],
   "source": [
    "tf.matmul(mat_u, tf.transpose(mat_v))"
   ]
  },
  {
   "cell_type": "code",
   "execution_count": 54,
   "id": "8564036c",
   "metadata": {},
   "outputs": [
    {
     "data": {
      "text/plain": [
       "<tf.Tensor: shape=(3, 3), dtype=int32, numpy=\n",
       "array([[18, 21, 21],\n",
       "       [24, 28, 28],\n",
       "       [18, 21, 21]])>"
      ]
     },
     "execution_count": 54,
     "metadata": {},
     "output_type": "execute_result"
    }
   ],
   "source": [
    "tf.matmul(tf.transpose(mat_v), mat_u)"
   ]
  },
  {
   "cell_type": "code",
   "execution_count": 55,
   "id": "948a48a1",
   "metadata": {},
   "outputs": [
    {
     "data": {
      "text/plain": [
       "<tf.Tensor: shape=(3, 3), dtype=int32, numpy=\n",
       "array([[18, 21, 21],\n",
       "       [24, 28, 28],\n",
       "       [18, 21, 21]])>"
      ]
     },
     "execution_count": 55,
     "metadata": {},
     "output_type": "execute_result"
    }
   ],
   "source": [
    "tf.transpose(mat_v) @ mat_u ### <<< Matrix mul"
   ]
  },
  {
   "cell_type": "code",
   "execution_count": 56,
   "id": "f687383b",
   "metadata": {},
   "outputs": [
    {
     "data": {
      "text/plain": [
       "<tf.Tensor: shape=(1, 1), dtype=int32, numpy=array([[67]])>"
      ]
     },
     "execution_count": 56,
     "metadata": {},
     "output_type": "execute_result"
    }
   ],
   "source": [
    "mat_u @ tf.transpose(mat_v) ### <<< Matrix mul"
   ]
  },
  {
   "cell_type": "code",
   "execution_count": 57,
   "id": "d3d627b7",
   "metadata": {},
   "outputs": [
    {
     "data": {
      "text/plain": [
       "<tf.Tensor: shape=(1, 3), dtype=int32, numpy=array([[18, 28, 21]])>"
      ]
     },
     "execution_count": 57,
     "metadata": {},
     "output_type": "execute_result"
    }
   ],
   "source": [
    "mat_u * mat_v # element wise multiplication"
   ]
  },
  {
   "cell_type": "code",
   "execution_count": null,
   "id": "459916a8",
   "metadata": {},
   "outputs": [],
   "source": []
  },
  {
   "cell_type": "markdown",
   "id": "594b6f51",
   "metadata": {},
   "source": [
    "# Squared difference of tensors"
   ]
  },
  {
   "cell_type": "code",
   "execution_count": 58,
   "id": "659fce7d",
   "metadata": {},
   "outputs": [
    {
     "data": {
      "text/plain": [
       "<tf.Tensor: shape=(6,), dtype=int32, numpy=array([ 1,  0,  1,  4,  9, 16])>"
      ]
     },
     "execution_count": 58,
     "metadata": {},
     "output_type": "execute_result"
    }
   ],
   "source": [
    "varx = [1,2,3,4,5,6]\n",
    "vary= 2 \n",
    "\n",
    "tf.math.squared_difference(varx,vary)"
   ]
  },
  {
   "cell_type": "code",
   "execution_count": 59,
   "id": "33bd8b50",
   "metadata": {},
   "outputs": [
    {
     "data": {
      "text/plain": [
       "<tf.Tensor: shape=(6,), dtype=int32, numpy=array([ 0,  1,  4,  9, 16, 25])>"
      ]
     },
     "execution_count": 59,
     "metadata": {},
     "output_type": "execute_result"
    }
   ],
   "source": [
    "pred = [1,2,3,4,5,6]\n",
    "actual = [1,1,1,1,1,1]\n",
    "\n",
    "tf.math.squared_difference(pred, actual)"
   ]
  },
  {
   "cell_type": "code",
   "execution_count": null,
   "id": "e59d0a2c",
   "metadata": {},
   "outputs": [],
   "source": []
  },
  {
   "cell_type": "markdown",
   "id": "dd43bd48",
   "metadata": {},
   "source": [
    "# Calculate Mean "
   ]
  },
  {
   "cell_type": "code",
   "execution_count": 60,
   "id": "c9a59008",
   "metadata": {},
   "outputs": [],
   "source": [
    "num = tf.constant([[1,2],[3,4]], dtype=tf.float32)"
   ]
  },
  {
   "cell_type": "code",
   "execution_count": 69,
   "id": "fa5ca1df",
   "metadata": {},
   "outputs": [
    {
     "data": {
      "text/plain": [
       "<tf.Tensor: shape=(), dtype=float32, numpy=2.5>"
      ]
     },
     "execution_count": 69,
     "metadata": {},
     "output_type": "execute_result"
    }
   ],
   "source": [
    "tf.reduce_mean(num)  # total mean"
   ]
  },
  {
   "cell_type": "code",
   "execution_count": 61,
   "id": "5725e089",
   "metadata": {},
   "outputs": [
    {
     "data": {
      "text/plain": [
       "<tf.Tensor: shape=(2,), dtype=float32, numpy=array([2., 3.], dtype=float32)>"
      ]
     },
     "execution_count": 61,
     "metadata": {},
     "output_type": "execute_result"
    }
   ],
   "source": [
    "tf.reduce_mean(num, axis=0) # row wise mean"
   ]
  },
  {
   "cell_type": "code",
   "execution_count": 62,
   "id": "cea8c848",
   "metadata": {},
   "outputs": [
    {
     "data": {
      "text/plain": [
       "<tf.Tensor: shape=(2,), dtype=float32, numpy=array([1.5, 3.5], dtype=float32)>"
      ]
     },
     "execution_count": 62,
     "metadata": {},
     "output_type": "execute_result"
    }
   ],
   "source": [
    "tf.reduce_mean(num, axis=1) # col wise mean"
   ]
  },
  {
   "cell_type": "code",
   "execution_count": 63,
   "id": "dde24fd7",
   "metadata": {},
   "outputs": [
    {
     "data": {
      "text/plain": [
       "<tf.Tensor: shape=(2, 1), dtype=float32, numpy=\n",
       "array([[1.5],\n",
       "       [3.5]], dtype=float32)>"
      ]
     },
     "execution_count": 63,
     "metadata": {},
     "output_type": "execute_result"
    }
   ],
   "source": [
    "tf.reduce_mean(num, axis=1, keepdims=True) # col wise mean"
   ]
  },
  {
   "cell_type": "code",
   "execution_count": null,
   "id": "7339faf1",
   "metadata": {},
   "outputs": [],
   "source": []
  },
  {
   "cell_type": "code",
   "execution_count": null,
   "id": "5a387ed7",
   "metadata": {},
   "outputs": [],
   "source": []
  },
  {
   "cell_type": "markdown",
   "id": "089b23ca",
   "metadata": {},
   "source": [
    "# Ragged tensors ( nested variable length arrays )"
   ]
  },
  {
   "cell_type": "code",
   "execution_count": 65,
   "id": "f18194ee",
   "metadata": {},
   "outputs": [],
   "source": [
    "ragged = tf.ragged.constant([[1,2,3,4,5,6],[1],[135,1]])"
   ]
  },
  {
   "cell_type": "code",
   "execution_count": 66,
   "id": "c59492fd",
   "metadata": {},
   "outputs": [
    {
     "data": {
      "text/plain": [
       "TensorShape([3, None])"
      ]
     },
     "execution_count": 66,
     "metadata": {},
     "output_type": "execute_result"
    }
   ],
   "source": [
    "ragged.shape   "
   ]
  },
  {
   "cell_type": "code",
   "execution_count": 67,
   "id": "50dfe23f",
   "metadata": {},
   "outputs": [
    {
     "data": {
      "text/plain": [
       "<tf.Tensor: shape=(6,), dtype=int32, numpy=array([1, 2, 3, 4, 5, 6])>"
      ]
     },
     "execution_count": 67,
     "metadata": {},
     "output_type": "execute_result"
    }
   ],
   "source": [
    "ragged[0]"
   ]
  },
  {
   "cell_type": "code",
   "execution_count": 68,
   "id": "163b31f1",
   "metadata": {},
   "outputs": [
    {
     "data": {
      "text/plain": [
       "TensorShape([6])"
      ]
     },
     "execution_count": 68,
     "metadata": {},
     "output_type": "execute_result"
    }
   ],
   "source": [
    "ragged[0].shape"
   ]
  },
  {
   "cell_type": "code",
   "execution_count": null,
   "id": "cd72738d",
   "metadata": {},
   "outputs": [],
   "source": []
  },
  {
   "cell_type": "markdown",
   "id": "5e275322",
   "metadata": {},
   "source": [
    "# Checkpointing\n",
    "### Restore the matrix values  "
   ]
  },
  {
   "cell_type": "code",
   "execution_count": 71,
   "id": "7365f9fb",
   "metadata": {},
   "outputs": [],
   "source": [
    "var1 = tf.Variable(5*tf.ones((5,5)))"
   ]
  },
  {
   "cell_type": "code",
   "execution_count": 72,
   "id": "8be1ae8e",
   "metadata": {},
   "outputs": [
    {
     "data": {
      "text/plain": [
       "<tf.Variable 'Variable:0' shape=(5, 5) dtype=float32, numpy=\n",
       "array([[5., 5., 5., 5., 5.],\n",
       "       [5., 5., 5., 5., 5.],\n",
       "       [5., 5., 5., 5., 5.],\n",
       "       [5., 5., 5., 5., 5.],\n",
       "       [5., 5., 5., 5., 5.]], dtype=float32)>"
      ]
     },
     "execution_count": 72,
     "metadata": {},
     "output_type": "execute_result"
    }
   ],
   "source": [
    "var1"
   ]
  },
  {
   "cell_type": "code",
   "execution_count": 73,
   "id": "b54b0a18",
   "metadata": {},
   "outputs": [],
   "source": [
    "ckpt = tf.train.Checkpoint(var=var1)\n",
    "savepath = ckpt.save('vars.ckpt')"
   ]
  },
  {
   "cell_type": "code",
   "execution_count": 74,
   "id": "3a68aaa4",
   "metadata": {},
   "outputs": [
    {
     "data": {
      "text/plain": [
       "<tf.Variable 'UnreadVariable' shape=(5, 5) dtype=float32, numpy=\n",
       "array([[0., 0., 0., 0., 0.],\n",
       "       [0., 0., 0., 0., 0.],\n",
       "       [0., 0., 0., 0., 0.],\n",
       "       [0., 0., 0., 0., 0.],\n",
       "       [0., 0., 0., 0., 0.]], dtype=float32)>"
      ]
     },
     "execution_count": 74,
     "metadata": {},
     "output_type": "execute_result"
    }
   ],
   "source": [
    "var1.assign(tf.zeros((5,5)))"
   ]
  },
  {
   "cell_type": "code",
   "execution_count": 76,
   "id": "77c72628",
   "metadata": {},
   "outputs": [
    {
     "data": {
      "text/plain": [
       "<tensorflow.python.checkpoint.checkpoint.CheckpointLoadStatus at 0x27d2c261b50>"
      ]
     },
     "execution_count": 76,
     "metadata": {},
     "output_type": "execute_result"
    }
   ],
   "source": [
    "ckpt.restore(savepath)"
   ]
  },
  {
   "cell_type": "code",
   "execution_count": 77,
   "id": "09db5981",
   "metadata": {},
   "outputs": [
    {
     "data": {
      "text/plain": [
       "<tf.Variable 'Variable:0' shape=(5, 5) dtype=float32, numpy=\n",
       "array([[5., 5., 5., 5., 5.],\n",
       "       [5., 5., 5., 5., 5.],\n",
       "       [5., 5., 5., 5., 5.],\n",
       "       [5., 5., 5., 5., 5.],\n",
       "       [5., 5., 5., 5., 5.]], dtype=float32)>"
      ]
     },
     "execution_count": 77,
     "metadata": {},
     "output_type": "execute_result"
    }
   ],
   "source": [
    "var1"
   ]
  },
  {
   "cell_type": "code",
   "execution_count": null,
   "id": "4f1b439f",
   "metadata": {},
   "outputs": [],
   "source": []
  },
  {
   "cell_type": "code",
   "execution_count": null,
   "id": "cd7b36de",
   "metadata": {},
   "outputs": [],
   "source": []
  },
  {
   "cell_type": "markdown",
   "id": "9c70ed67",
   "metadata": {},
   "source": [
    "# Tensorflow functions "
   ]
  },
  {
   "cell_type": "markdown",
   "id": "e5e11131",
   "metadata": {},
   "source": [
    "$z = x^3 * 6 + y^3$"
   ]
  },
  {
   "cell_type": "code",
   "execution_count": 78,
   "id": "7737bfaf",
   "metadata": {},
   "outputs": [],
   "source": [
    "def f1(x,y):\n",
    "    input_var = tf.multiply(x**3,6) + y**3\n",
    "    return tf.reduce_mean(input_tensor=input_var)"
   ]
  },
  {
   "cell_type": "code",
   "execution_count": 80,
   "id": "8b8616ed",
   "metadata": {},
   "outputs": [],
   "source": [
    "func = tf.function(f1)   # This will take the function as a tensorflow function "
   ]
  },
  {
   "cell_type": "code",
   "execution_count": 81,
   "id": "e64089ef",
   "metadata": {},
   "outputs": [],
   "source": [
    "x = tf.constant([3.,-4.])\n",
    "y = tf.constant([1.,4.])"
   ]
  },
  {
   "cell_type": "code",
   "execution_count": 82,
   "id": "963d3e33",
   "metadata": {},
   "outputs": [
    {
     "data": {
      "text/plain": [
       "<tf.Tensor: shape=(), dtype=float32, numpy=-78.5>"
      ]
     },
     "execution_count": 82,
     "metadata": {},
     "output_type": "execute_result"
    }
   ],
   "source": [
    "f1(x,y) ## using a simple python function"
   ]
  },
  {
   "cell_type": "code",
   "execution_count": 85,
   "id": "e247c738",
   "metadata": {},
   "outputs": [],
   "source": [
    "@tf.function ## tf decorator function\n",
    "def f2(x, y):\n",
    "  input_var = tf.multiply(x ** 3, 6) + y ** 3\n",
    "  return tf.reduce_mean(input_tensor=input_var)\n",
    "\n",
    "## Decorator is a more of a like wrapper and it provides more functionalities to the function without \n",
    "## changing the definition"
   ]
  },
  {
   "cell_type": "code",
   "execution_count": 84,
   "id": "a23adf85",
   "metadata": {},
   "outputs": [
    {
     "data": {
      "text/plain": [
       "<tf.Tensor: shape=(), dtype=float32, numpy=-78.5>"
      ]
     },
     "execution_count": 84,
     "metadata": {},
     "output_type": "execute_result"
    }
   ],
   "source": [
    "f2(x,y)"
   ]
  },
  {
   "cell_type": "code",
   "execution_count": null,
   "id": "e5db9a10",
   "metadata": {},
   "outputs": [],
   "source": []
  },
  {
   "cell_type": "markdown",
   "id": "2cb95594",
   "metadata": {},
   "source": [
    "#### Decorators"
   ]
  },
  {
   "cell_type": "code",
   "execution_count": 86,
   "id": "396600a1",
   "metadata": {},
   "outputs": [],
   "source": [
    "def print_me():\n",
    "  print(\"Hi FSDS\")"
   ]
  },
  {
   "cell_type": "code",
   "execution_count": 87,
   "id": "9825e575",
   "metadata": {},
   "outputs": [
    {
     "name": "stdout",
     "output_type": "stream",
     "text": [
      "****************************************\n",
      "Hi FSDS\n",
      "****************************************\n"
     ]
    }
   ],
   "source": [
    "print(\"**\"*20)\n",
    "print_me()\n",
    "print(\"**\"*20)"
   ]
  },
  {
   "cell_type": "code",
   "execution_count": 88,
   "id": "7c1e3fd6",
   "metadata": {},
   "outputs": [],
   "source": [
    "def decorate_it(input_func):\n",
    "  def decorated_func():\n",
    "    print(\"**\"*20)\n",
    "    input_func()\n",
    "    print(\"**\"*20)\n",
    "\n",
    "  return decorated_func"
   ]
  },
  {
   "cell_type": "code",
   "execution_count": 89,
   "id": "180b61c5",
   "metadata": {},
   "outputs": [
    {
     "name": "stdout",
     "output_type": "stream",
     "text": [
      "****************************************\n",
      "Hi FSDS\n",
      "****************************************\n"
     ]
    }
   ],
   "source": [
    "decorated_func = decorate_it(print_me)\n",
    "\n",
    "decorated_func()"
   ]
  },
  {
   "cell_type": "code",
   "execution_count": null,
   "id": "1689bba3",
   "metadata": {},
   "outputs": [],
   "source": []
  },
  {
   "cell_type": "code",
   "execution_count": null,
   "id": "52544501",
   "metadata": {},
   "outputs": [],
   "source": []
  },
  {
   "cell_type": "markdown",
   "id": "35e883e6",
   "metadata": {},
   "source": [
    "# Calculating Gradients"
   ]
  },
  {
   "cell_type": "code",
   "execution_count": 91,
   "id": "a57e37ad",
   "metadata": {},
   "outputs": [
    {
     "name": "stdout",
     "output_type": "stream",
     "text": [
      "tf.Tensor(\n",
      "[[-0.66421294 -0.03116129]\n",
      " [ 1.5746359   0.7674743 ]], shape=(2, 2), dtype=float32)\n",
      "tf.Tensor(\n",
      "[[-1.1033082  -1.2544963 ]\n",
      " [-0.600059   -0.52920145]], shape=(2, 2), dtype=float32)\n"
     ]
    }
   ],
   "source": [
    "x = tf.random.normal(shape=(2,2)) ## this creates a const by default\n",
    "y = tf.random.normal(shape=(2,2))\n",
    "print(x)\n",
    "print(y)"
   ]
  },
  {
   "cell_type": "markdown",
   "id": "f8949bbf",
   "metadata": {},
   "source": [
    "$f(x,y) = \\sqrt{(x^2 + y^2)}$\n",
    "\n",
    "$\\nabla f(x,y) = \\frac{\\partial f}{\\partial x} \\hat{\\imath} + \\frac{\\partial f}{\\partial y} \\hat{\\jmath}$"
   ]
  },
  {
   "cell_type": "code",
   "execution_count": 90,
   "id": "92429ec0",
   "metadata": {},
   "outputs": [
    {
     "name": "stdout",
     "output_type": "stream",
     "text": [
      "tf.Tensor([ 0.94868326 -0.70710677], shape=(2,), dtype=float32)\n"
     ]
    }
   ],
   "source": [
    "with tf.GradientTape() as tape:\n",
    "  tape.watch(x) ### <<< I want to calculate grad wrt x\n",
    "  f = tf.sqrt(tf.square(x) + tf.square(y))\n",
    "\n",
    "  df_dx = tape.gradient(f, x)   #  partial derivative of f with respect to x \n",
    "\n",
    "  print(df_dx)"
   ]
  },
  {
   "cell_type": "code",
   "execution_count": 99,
   "id": "6f9a2437",
   "metadata": {},
   "outputs": [
    {
     "name": "stdout",
     "output_type": "stream",
     "text": [
      "tf.Tensor(0.5547002, shape=(), dtype=float32)\n"
     ]
    }
   ],
   "source": [
    "with tf.GradientTape() as tape:\n",
    "  tape.watch(y) ### <<< I want to calculate grad wrt y\n",
    "  f = tf.sqrt(tf.square(x) + tf.square(y))\n",
    "\n",
    "  df_dy = tape.gradient(f, y)  #  partial derivative of f with respect to y\n",
    "\n",
    "  print(df_dy)"
   ]
  },
  {
   "cell_type": "code",
   "execution_count": 100,
   "id": "7aa0ffdf",
   "metadata": {},
   "outputs": [
    {
     "name": "stdout",
     "output_type": "stream",
     "text": [
      "tf.Tensor(0.8320503, shape=(), dtype=float32)\n",
      "tf.Tensor(0.5547002, shape=(), dtype=float32)\n"
     ]
    }
   ],
   "source": [
    "with tf.GradientTape() as tape:\n",
    "  tape.watch(y) ### <<< I want to calculate grad wrt y\n",
    "  tape.watch(x) ### <<< I want to calculate grad wrt x\n",
    "  f = tf.sqrt(tf.square(x) + tf.square(y))\n",
    "\n",
    "  df_dx, df_dy = tape.gradient(f, [x, y]) \n",
    "    ## partial diff wrt x and y  , we can use this to find the gradient \n",
    "\n",
    "  print(df_dx)\n",
    "  print(df_dy)"
   ]
  },
  {
   "cell_type": "code",
   "execution_count": null,
   "id": "4d1f7884",
   "metadata": {},
   "outputs": [],
   "source": []
  },
  {
   "cell_type": "code",
   "execution_count": null,
   "id": "459f034d",
   "metadata": {},
   "outputs": [],
   "source": []
  },
  {
   "cell_type": "code",
   "execution_count": 93,
   "id": "dc50b327",
   "metadata": {},
   "outputs": [],
   "source": [
    "## tf.watch is only needed when X and Y are not variables.Because we have defined x and y using \n",
    "# tf.random.normal(shape=(2,2))  and it creates a constant . If we define the x and y in the following way\n",
    "# we dont have to use tape.watch()\n",
    "x= tf.Variable(tf.random.normal(shape=(2,2)))\n",
    "y = tf.Variable(tf.random.normal(shape=(2,2)))"
   ]
  },
  {
   "cell_type": "code",
   "execution_count": 94,
   "id": "49a98363",
   "metadata": {
    "scrolled": true
   },
   "outputs": [
    {
     "name": "stdout",
     "output_type": "stream",
     "text": [
      "tf.Tensor(\n",
      "[[ 0.99358654  0.9674144 ]\n",
      " [-0.58394885  0.70098746]], shape=(2, 2), dtype=float32)\n",
      "tf.Tensor(\n",
      "[[ 0.1130739  -0.25319842]\n",
      " [ 0.81179047  0.71317357]], shape=(2, 2), dtype=float32)\n"
     ]
    }
   ],
   "source": [
    "with tf.GradientTape() as tape:\n",
    "  f = tf.sqrt(tf.square(x) + tf.square(y))\n",
    "\n",
    "  df_dx, df_dy = tape.gradient(f, [x, y]) ## partial diff wrt x and y\n",
    "\n",
    "  print(df_dx)\n",
    "  print(df_dy)"
   ]
  },
  {
   "cell_type": "code",
   "execution_count": null,
   "id": "7b00f7cf",
   "metadata": {},
   "outputs": [],
   "source": []
  },
  {
   "cell_type": "code",
   "execution_count": 95,
   "id": "97e765a9",
   "metadata": {},
   "outputs": [],
   "source": [
    "x = tf.Variable(3.)\n",
    "y = tf.Variable(2.)"
   ]
  },
  {
   "cell_type": "code",
   "execution_count": 96,
   "id": "0bdcb1c3",
   "metadata": {},
   "outputs": [
    {
     "name": "stdout",
     "output_type": "stream",
     "text": [
      "tf.Tensor(0.8320503, shape=(), dtype=float32)\n",
      "tf.Tensor(0.5547002, shape=(), dtype=float32)\n"
     ]
    }
   ],
   "source": [
    "with tf.GradientTape() as tape:\n",
    "  f = tf.sqrt(tf.square(x) + tf.square(y))\n",
    "\n",
    "  df_dx, df_dy = tape.gradient(f, [x, y]) ## partial diff wrt x and y\n",
    "\n",
    "  print(df_dx)\n",
    "  print(df_dy)"
   ]
  },
  {
   "cell_type": "code",
   "execution_count": 97,
   "id": "ddfdd011",
   "metadata": {},
   "outputs": [
    {
     "data": {
      "text/plain": [
       "<tf.Tensor: shape=(), dtype=float32, numpy=0.8320503>"
      ]
     },
     "execution_count": 97,
     "metadata": {},
     "output_type": "execute_result"
    }
   ],
   "source": [
    "x/tf.sqrt(tf.square(x) + tf.square(y))"
   ]
  },
  {
   "cell_type": "code",
   "execution_count": 98,
   "id": "715d3d41",
   "metadata": {},
   "outputs": [
    {
     "data": {
      "text/plain": [
       "<tf.Tensor: shape=(), dtype=float32, numpy=0.5547002>"
      ]
     },
     "execution_count": 98,
     "metadata": {},
     "output_type": "execute_result"
    }
   ],
   "source": [
    "y/tf.sqrt(tf.square(x) + tf.square(y))"
   ]
  },
  {
   "cell_type": "code",
   "execution_count": null,
   "id": "9f2d5250",
   "metadata": {},
   "outputs": [],
   "source": []
  },
  {
   "cell_type": "code",
   "execution_count": null,
   "id": "8894efde",
   "metadata": {},
   "outputs": [],
   "source": []
  },
  {
   "cell_type": "code",
   "execution_count": null,
   "id": "93ed2288",
   "metadata": {},
   "outputs": [],
   "source": []
  },
  {
   "cell_type": "markdown",
   "id": "94d0eb00",
   "metadata": {},
   "source": [
    "#  Simple linear regression example"
   ]
  },
  {
   "cell_type": "markdown",
   "id": "e1aa2ecf",
   "metadata": {},
   "source": [
    "$f(x) = W.x + b$"
   ]
  },
  {
   "cell_type": "code",
   "execution_count": null,
   "id": "818ec9eb",
   "metadata": {},
   "outputs": [],
   "source": [
    "TRUE_W = 3.0   # weights \n",
    "TRUE_B = 2.0   # bias \n",
    "## those are the exact answers for weights and bias \n",
    "\n",
    "NUM_EXAMPLES = 1000\n",
    "\n",
    "x = tf.random.normal(shape=[NUM_EXAMPLES])"
   ]
  },
  {
   "cell_type": "code",
   "execution_count": null,
   "id": "7bef805f",
   "metadata": {},
   "outputs": [],
   "source": [
    "noise = tf.random.normal(shape=[NUM_EXAMPLES])"
   ]
  },
  {
   "cell_type": "code",
   "execution_count": null,
   "id": "24f1ab79",
   "metadata": {},
   "outputs": [],
   "source": [
    "y = x * TRUE_W + TRUE_B + noise"
   ]
  },
  {
   "cell_type": "code",
   "execution_count": null,
   "id": "b0ba5682",
   "metadata": {},
   "outputs": [],
   "source": []
  },
  {
   "cell_type": "code",
   "execution_count": null,
   "id": "46e73d30",
   "metadata": {},
   "outputs": [],
   "source": [
    "import matplotlib.pyplot as plt\n",
    "\n",
    "plt.scatter(x, y, c=\"b\")\n",
    "plt.show()"
   ]
  },
  {
   "cell_type": "code",
   "execution_count": null,
   "id": "35587b38",
   "metadata": {},
   "outputs": [],
   "source": []
  },
  {
   "cell_type": "code",
   "execution_count": null,
   "id": "c513b9b4",
   "metadata": {},
   "outputs": [],
   "source": [
    "class MyModel(tf.Module):\n",
    "  def __init__(self, **kwargs):\n",
    "    super().__init__(**kwargs)\n",
    "\n",
    "    # initial weights\n",
    "    self.w = tf.Variable(5.0)\n",
    "    self.b = tf.Variable(0.0)\n",
    "\n",
    "  def __call__(self, x):\n",
    "    return self.w*x + self.b"
   ]
  },
  {
   "cell_type": "code",
   "execution_count": null,
   "id": "f41c4316",
   "metadata": {},
   "outputs": [],
   "source": []
  },
  {
   "cell_type": "code",
   "execution_count": null,
   "id": "e3d1511f",
   "metadata": {},
   "outputs": [],
   "source": [
    "class Test:\n",
    "  def __init__(self, x):\n",
    "    self.x = x\n",
    "\n",
    "  def __call__(self):\n",
    "    return self.x ** 3"
   ]
  },
  {
   "cell_type": "code",
   "execution_count": null,
   "id": "5daaff87",
   "metadata": {},
   "outputs": [],
   "source": [
    "obj = Test(2)\n",
    "obj"
   ]
  },
  {
   "cell_type": "code",
   "execution_count": null,
   "id": "da733171",
   "metadata": {},
   "outputs": [],
   "source": [
    "obj()"
   ]
  },
  {
   "cell_type": "code",
   "execution_count": null,
   "id": "840d8f88",
   "metadata": {},
   "outputs": [],
   "source": [
    "model = MyModel()"
   ]
  },
  {
   "cell_type": "code",
   "execution_count": null,
   "id": "e2abeeff",
   "metadata": {},
   "outputs": [],
   "source": [
    "model(3)"
   ]
  },
  {
   "cell_type": "code",
   "execution_count": null,
   "id": "69156a92",
   "metadata": {},
   "outputs": [],
   "source": [
    "model.w"
   ]
  },
  {
   "cell_type": "code",
   "execution_count": null,
   "id": "38bb4f09",
   "metadata": {},
   "outputs": [],
   "source": [
    "model.b"
   ]
  },
  {
   "cell_type": "code",
   "execution_count": null,
   "id": "3de7c14d",
   "metadata": {},
   "outputs": [],
   "source": [
    "model.variables"
   ]
  },
  {
   "cell_type": "code",
   "execution_count": null,
   "id": "e706653c",
   "metadata": {},
   "outputs": [],
   "source": []
  },
  {
   "cell_type": "markdown",
   "id": "e74a0405",
   "metadata": {},
   "source": [
    "# Define loss function "
   ]
  },
  {
   "cell_type": "code",
   "execution_count": null,
   "id": "b2ba74d1",
   "metadata": {},
   "outputs": [],
   "source": [
    "def MSE_loss(target_y, predicted_y):\n",
    "  error = target_y - predicted_y\n",
    "  squared_error = tf.square(error)\n",
    "  mse = tf.reduce_mean(squared_error)\n",
    "  return mse"
   ]
  },
  {
   "cell_type": "code",
   "execution_count": null,
   "id": "512a19c1",
   "metadata": {},
   "outputs": [],
   "source": [
    "plt.scatter(x, y, c=\"b\")\n",
    "\n",
    "pred_y = model(x) ## without training\n",
    "plt.scatter(x, pred_y, c=\"r\") \n",
    "\n",
    "plt.show()"
   ]
  },
  {
   "cell_type": "code",
   "execution_count": null,
   "id": "a00aefed",
   "metadata": {},
   "outputs": [],
   "source": []
  },
  {
   "cell_type": "code",
   "execution_count": null,
   "id": "467a0434",
   "metadata": {},
   "outputs": [],
   "source": [
    "current_loss  = MSE_loss(y, model(x))\n",
    "current_loss.numpy()"
   ]
  },
  {
   "cell_type": "code",
   "execution_count": null,
   "id": "eb878f97",
   "metadata": {},
   "outputs": [],
   "source": []
  },
  {
   "cell_type": "code",
   "execution_count": null,
   "id": "d96a1f8e",
   "metadata": {},
   "outputs": [],
   "source": [
    "def train(model, x, y, learning_rate):\n",
    "\n",
    "  with tf.GradientTape() as tape:\n",
    "    current_loss = MSE_loss(y, model(x))\n",
    "\n",
    "  dc_dw, dc_db = tape.gradient(current_loss, [model.w, model.b])\n",
    "\n",
    "  model.w.assign_sub(learning_rate * dc_dw)\n",
    "  model.b.assign_sub(learning_rate * dc_db)"
   ]
  },
  {
   "cell_type": "code",
   "execution_count": null,
   "id": "658cc9c2",
   "metadata": {},
   "outputs": [],
   "source": []
  },
  {
   "cell_type": "code",
   "execution_count": null,
   "id": "04ffe396",
   "metadata": {},
   "outputs": [],
   "source": [
    "model = MyModel()\n",
    "\n",
    "Ws, bs = [], []\n",
    "\n",
    "epochs = 10*2\n",
    "\n",
    "learning_rate = 0.1\n",
    "\n",
    "w = model.w.numpy()\n",
    "b = model.b.numpy()\n",
    "\n",
    "init_loss = MSE_loss(y, model(x)).numpy()\n",
    "\n",
    "print(f\"Initial W: {w}, initial bias: {b}, initial_loss: {init_loss}\")"
   ]
  },
  {
   "cell_type": "code",
   "execution_count": null,
   "id": "b2314e91",
   "metadata": {},
   "outputs": [],
   "source": []
  },
  {
   "cell_type": "code",
   "execution_count": null,
   "id": "0a9897ae",
   "metadata": {},
   "outputs": [],
   "source": [
    "for epoch in range(epochs):\n",
    "  train(model, x, y, learning_rate)\n",
    "\n",
    "  Ws.append(model.w.numpy())\n",
    "  bs.append(model.b.numpy())\n",
    "\n",
    "  current_loss = MSE_loss(y, model(x))\n",
    "\n",
    "  print(f\"For epoch: {epoch}, W: {Ws[-1]}, b: {bs[-1]}, current_loss: {current_loss}\")"
   ]
  },
  {
   "cell_type": "code",
   "execution_count": null,
   "id": "bdf57936",
   "metadata": {},
   "outputs": [],
   "source": [
    "plt.plot(range(epochs), Ws, 'r', range(epochs), bs, \"b\")\n",
    "\n",
    "plt.plot([TRUE_W] * epochs, \"r--\", [TRUE_B] * epochs, \"b--\")\n",
    "\n",
    "plt.legend([\"W\", \"b\", \"True W\", \"True B\"])\n",
    "\n",
    "plt.show()"
   ]
  },
  {
   "cell_type": "code",
   "execution_count": null,
   "id": "7faccf92",
   "metadata": {},
   "outputs": [],
   "source": []
  },
  {
   "cell_type": "code",
   "execution_count": null,
   "id": "72be7a62",
   "metadata": {},
   "outputs": [],
   "source": [
    "plt.scatter(x, y, c=\"b\")\n",
    "\n",
    "pred_y = model(x) ## after training\n",
    "plt.scatter(x, pred_y, c=\"r\") \n",
    "\n",
    "plt.show()"
   ]
  },
  {
   "cell_type": "code",
   "execution_count": null,
   "id": "1d8c3308",
   "metadata": {},
   "outputs": [],
   "source": []
  },
  {
   "cell_type": "code",
   "execution_count": null,
   "id": "cdec1c01",
   "metadata": {},
   "outputs": [],
   "source": []
  },
  {
   "cell_type": "code",
   "execution_count": null,
   "id": "9f04ce06",
   "metadata": {},
   "outputs": [],
   "source": []
  },
  {
   "cell_type": "code",
   "execution_count": null,
   "id": "b21a17ec",
   "metadata": {},
   "outputs": [],
   "source": []
  },
  {
   "cell_type": "code",
   "execution_count": null,
   "id": "ba873357",
   "metadata": {},
   "outputs": [],
   "source": []
  },
  {
   "cell_type": "code",
   "execution_count": null,
   "id": "0cd332a8",
   "metadata": {},
   "outputs": [],
   "source": []
  },
  {
   "cell_type": "code",
   "execution_count": null,
   "id": "3dffd05d",
   "metadata": {},
   "outputs": [],
   "source": []
  },
  {
   "cell_type": "code",
   "execution_count": null,
   "id": "e311e502",
   "metadata": {},
   "outputs": [],
   "source": []
  }
 ],
 "metadata": {
  "kernelspec": {
   "display_name": "Python 3",
   "language": "python",
   "name": "python3"
  },
  "language_info": {
   "codemirror_mode": {
    "name": "ipython",
    "version": 3
   },
   "file_extension": ".py",
   "mimetype": "text/x-python",
   "name": "python",
   "nbconvert_exporter": "python",
   "pygments_lexer": "ipython3",
   "version": "3.11.5"
  }
 },
 "nbformat": 4,
 "nbformat_minor": 5
}
